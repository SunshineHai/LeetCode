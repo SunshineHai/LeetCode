{
 "cells": [
  {
   "cell_type": "code",
   "execution_count": 8,
   "id": "9bafbe4b",
   "metadata": {},
   "outputs": [
    {
     "data": {
      "text/plain": [
       "'..\\\\data\\\\distance.csv'"
      ]
     },
     "execution_count": 8,
     "metadata": {},
     "output_type": "execute_result"
    }
   ],
   "source": [
    "import numpy as np\n",
    "import pandas as pd\n",
    "\n",
    "path = r'..\\data\\distance.csv'\n",
    "path"
   ]
  },
  {
   "cell_type": "code",
   "execution_count": 10,
   "id": "212f2960",
   "metadata": {},
   "outputs": [
    {
     "data": {
      "text/html": [
       "<div>\n",
       "<style scoped>\n",
       "    .dataframe tbody tr th:only-of-type {\n",
       "        vertical-align: middle;\n",
       "    }\n",
       "\n",
       "    .dataframe tbody tr th {\n",
       "        vertical-align: top;\n",
       "    }\n",
       "\n",
       "    .dataframe thead th {\n",
       "        text-align: right;\n",
       "    }\n",
       "</style>\n",
       "<table border=\"1\" class=\"dataframe\">\n",
       "  <thead>\n",
       "    <tr style=\"text-align: right;\">\n",
       "      <th></th>\n",
       "      <th>num</th>\n",
       "      <th>A0</th>\n",
       "      <th>A1</th>\n",
       "      <th>A2</th>\n",
       "      <th>A3</th>\n",
       "      <th>x</th>\n",
       "      <th>y</th>\n",
       "      <th>z</th>\n",
       "      <th>label</th>\n",
       "    </tr>\n",
       "  </thead>\n",
       "  <tbody>\n",
       "    <tr>\n",
       "      <th>0</th>\n",
       "      <td>0</td>\n",
       "      <td>1016.931217</td>\n",
       "      <td>4782.857143</td>\n",
       "      <td>4552.962963</td>\n",
       "      <td>6298.994709</td>\n",
       "      <td>50</td>\n",
       "      <td>50</td>\n",
       "      <td>88</td>\n",
       "      <td>1</td>\n",
       "    </tr>\n",
       "    <tr>\n",
       "      <th>1</th>\n",
       "      <td>1</td>\n",
       "      <td>1338.424658</td>\n",
       "      <td>4920.136986</td>\n",
       "      <td>4109.178082</td>\n",
       "      <td>5943.561644</td>\n",
       "      <td>50</td>\n",
       "      <td>100</td>\n",
       "      <td>88</td>\n",
       "      <td>1</td>\n",
       "    </tr>\n",
       "    <tr>\n",
       "      <th>2</th>\n",
       "      <td>2</td>\n",
       "      <td>1783.790850</td>\n",
       "      <td>5033.464052</td>\n",
       "      <td>3605.882353</td>\n",
       "      <td>5619.150327</td>\n",
       "      <td>50</td>\n",
       "      <td>150</td>\n",
       "      <td>88</td>\n",
       "      <td>1</td>\n",
       "    </tr>\n",
       "    <tr>\n",
       "      <th>3</th>\n",
       "      <td>3</td>\n",
       "      <td>2253.617021</td>\n",
       "      <td>5218.563830</td>\n",
       "      <td>3085.159574</td>\n",
       "      <td>5322.819149</td>\n",
       "      <td>50</td>\n",
       "      <td>200</td>\n",
       "      <td>88</td>\n",
       "      <td>1</td>\n",
       "    </tr>\n",
       "    <tr>\n",
       "      <th>4</th>\n",
       "      <td>4</td>\n",
       "      <td>2727.142857</td>\n",
       "      <td>5370.285714</td>\n",
       "      <td>2600.142857</td>\n",
       "      <td>5033.238095</td>\n",
       "      <td>50</td>\n",
       "      <td>250</td>\n",
       "      <td>88</td>\n",
       "      <td>1</td>\n",
       "    </tr>\n",
       "  </tbody>\n",
       "</table>\n",
       "</div>"
      ],
      "text/plain": [
       "   num           A0           A1           A2           A3   x    y   z  label\n",
       "0    0  1016.931217  4782.857143  4552.962963  6298.994709  50   50  88      1\n",
       "1    1  1338.424658  4920.136986  4109.178082  5943.561644  50  100  88      1\n",
       "2    2  1783.790850  5033.464052  3605.882353  5619.150327  50  150  88      1\n",
       "3    3  2253.617021  5218.563830  3085.159574  5322.819149  50  200  88      1\n",
       "4    4  2727.142857  5370.285714  2600.142857  5033.238095  50  250  88      1"
      ]
     },
     "execution_count": 10,
     "metadata": {},
     "output_type": "execute_result"
    }
   ],
   "source": [
    "data = pd.read_csv(path)\n",
    "data.head()"
   ]
  },
  {
   "cell_type": "code",
   "execution_count": 11,
   "id": "7444ab2c",
   "metadata": {},
   "outputs": [
    {
     "data": {
      "text/html": [
       "<div>\n",
       "<style scoped>\n",
       "    .dataframe tbody tr th:only-of-type {\n",
       "        vertical-align: middle;\n",
       "    }\n",
       "\n",
       "    .dataframe tbody tr th {\n",
       "        vertical-align: top;\n",
       "    }\n",
       "\n",
       "    .dataframe thead th {\n",
       "        text-align: right;\n",
       "    }\n",
       "</style>\n",
       "<table border=\"1\" class=\"dataframe\">\n",
       "  <thead>\n",
       "    <tr style=\"text-align: right;\">\n",
       "      <th></th>\n",
       "      <th>num</th>\n",
       "      <th>A0</th>\n",
       "      <th>A1</th>\n",
       "      <th>A2</th>\n",
       "      <th>A3</th>\n",
       "      <th>x</th>\n",
       "      <th>y</th>\n",
       "      <th>z</th>\n",
       "      <th>label</th>\n",
       "    </tr>\n",
       "  </thead>\n",
       "  <tbody>\n",
       "    <tr>\n",
       "      <th>count</th>\n",
       "      <td>648.000000</td>\n",
       "      <td>648.000000</td>\n",
       "      <td>648.000000</td>\n",
       "      <td>648.000000</td>\n",
       "      <td>648.000000</td>\n",
       "      <td>648.000000</td>\n",
       "      <td>648.000000</td>\n",
       "      <td>648.000000</td>\n",
       "      <td>648.000000</td>\n",
       "    </tr>\n",
       "    <tr>\n",
       "      <th>mean</th>\n",
       "      <td>323.500000</td>\n",
       "      <td>3822.361982</td>\n",
       "      <td>3831.485685</td>\n",
       "      <td>3805.228393</td>\n",
       "      <td>3794.452339</td>\n",
       "      <td>250.000000</td>\n",
       "      <td>250.000000</td>\n",
       "      <td>147.000000</td>\n",
       "      <td>0.500000</td>\n",
       "    </tr>\n",
       "    <tr>\n",
       "      <th>std</th>\n",
       "      <td>187.205769</td>\n",
       "      <td>1303.943989</td>\n",
       "      <td>1302.120626</td>\n",
       "      <td>1304.315800</td>\n",
       "      <td>1301.366632</td>\n",
       "      <td>129.199174</td>\n",
       "      <td>129.199174</td>\n",
       "      <td>42.187042</td>\n",
       "      <td>0.500386</td>\n",
       "    </tr>\n",
       "    <tr>\n",
       "      <th>min</th>\n",
       "      <td>0.000000</td>\n",
       "      <td>637.966102</td>\n",
       "      <td>578.874172</td>\n",
       "      <td>589.223301</td>\n",
       "      <td>568.910891</td>\n",
       "      <td>50.000000</td>\n",
       "      <td>50.000000</td>\n",
       "      <td>88.000000</td>\n",
       "      <td>0.000000</td>\n",
       "    </tr>\n",
       "    <tr>\n",
       "      <th>25%</th>\n",
       "      <td>161.750000</td>\n",
       "      <td>2890.911486</td>\n",
       "      <td>2868.041425</td>\n",
       "      <td>2880.476026</td>\n",
       "      <td>2879.709870</td>\n",
       "      <td>150.000000</td>\n",
       "      <td>150.000000</td>\n",
       "      <td>119.500000</td>\n",
       "      <td>0.000000</td>\n",
       "    </tr>\n",
       "    <tr>\n",
       "      <th>50%</th>\n",
       "      <td>323.500000</td>\n",
       "      <td>3948.425892</td>\n",
       "      <td>3974.006815</td>\n",
       "      <td>4003.183876</td>\n",
       "      <td>3961.648936</td>\n",
       "      <td>250.000000</td>\n",
       "      <td>250.000000</td>\n",
       "      <td>150.000000</td>\n",
       "      <td>0.500000</td>\n",
       "    </tr>\n",
       "    <tr>\n",
       "      <th>75%</th>\n",
       "      <td>485.250000</td>\n",
       "      <td>4732.334546</td>\n",
       "      <td>4783.172269</td>\n",
       "      <td>4742.382789</td>\n",
       "      <td>4712.299331</td>\n",
       "      <td>350.000000</td>\n",
       "      <td>350.000000</td>\n",
       "      <td>177.500000</td>\n",
       "      <td>1.000000</td>\n",
       "    </tr>\n",
       "    <tr>\n",
       "      <th>max</th>\n",
       "      <td>647.000000</td>\n",
       "      <td>6707.976654</td>\n",
       "      <td>6657.439614</td>\n",
       "      <td>6607.129630</td>\n",
       "      <td>6464.470588</td>\n",
       "      <td>450.000000</td>\n",
       "      <td>450.000000</td>\n",
       "      <td>200.000000</td>\n",
       "      <td>1.000000</td>\n",
       "    </tr>\n",
       "  </tbody>\n",
       "</table>\n",
       "</div>"
      ],
      "text/plain": [
       "              num           A0           A1           A2           A3  \\\n",
       "count  648.000000   648.000000   648.000000   648.000000   648.000000   \n",
       "mean   323.500000  3822.361982  3831.485685  3805.228393  3794.452339   \n",
       "std    187.205769  1303.943989  1302.120626  1304.315800  1301.366632   \n",
       "min      0.000000   637.966102   578.874172   589.223301   568.910891   \n",
       "25%    161.750000  2890.911486  2868.041425  2880.476026  2879.709870   \n",
       "50%    323.500000  3948.425892  3974.006815  4003.183876  3961.648936   \n",
       "75%    485.250000  4732.334546  4783.172269  4742.382789  4712.299331   \n",
       "max    647.000000  6707.976654  6657.439614  6607.129630  6464.470588   \n",
       "\n",
       "                x           y           z       label  \n",
       "count  648.000000  648.000000  648.000000  648.000000  \n",
       "mean   250.000000  250.000000  147.000000    0.500000  \n",
       "std    129.199174  129.199174   42.187042    0.500386  \n",
       "min     50.000000   50.000000   88.000000    0.000000  \n",
       "25%    150.000000  150.000000  119.500000    0.000000  \n",
       "50%    250.000000  250.000000  150.000000    0.500000  \n",
       "75%    350.000000  350.000000  177.500000    1.000000  \n",
       "max    450.000000  450.000000  200.000000    1.000000  "
      ]
     },
     "execution_count": 11,
     "metadata": {},
     "output_type": "execute_result"
    }
   ],
   "source": [
    "data.describe()"
   ]
  },
  {
   "cell_type": "code",
   "execution_count": 15,
   "id": "9021f21f",
   "metadata": {},
   "outputs": [
    {
     "data": {
      "text/plain": [
       "True"
      ]
     },
     "execution_count": 15,
     "metadata": {},
     "output_type": "execute_result"
    }
   ],
   "source": [
    "arr = np.arange(20).reshape(2, 10)\n",
    "isinstance(arr, np.ndarray)"
   ]
  },
  {
   "cell_type": "code",
   "execution_count": 17,
   "id": "0ad31389",
   "metadata": {},
   "outputs": [
    {
     "data": {
      "text/plain": [
       "array([[ 1,  2,  3,  4,  5,  6,  7,  8,  9],\n",
       "       [11, 12, 13, 14, 15, 16, 17, 18, 19]])"
      ]
     },
     "execution_count": 17,
     "metadata": {},
     "output_type": "execute_result"
    }
   ],
   "source": [
    "arr[:, 1:]"
   ]
  },
  {
   "cell_type": "code",
   "execution_count": 29,
   "id": "e2711861",
   "metadata": {},
   "outputs": [
    {
     "data": {
      "text/plain": [
       "array([[1016.931217, 4782.857143, 4552.962963, ...,   50.      ,\n",
       "          50.      ,   88.      ],\n",
       "       [1338.424658, 4920.136986, 4109.178082, ...,   50.      ,\n",
       "         100.      ,   88.      ],\n",
       "       [1783.79085 , 5033.464052, 3605.882353, ...,   50.      ,\n",
       "         150.      ,   88.      ],\n",
       "       ...,\n",
       "       [5822.246377, 3505.942029, 4698.405797, ...,  450.      ,\n",
       "         350.      ,  200.      ],\n",
       "       [6195.945946, 3998.198198, 4578.018018, ...,  450.      ,\n",
       "         400.      ,  200.      ],\n",
       "       [6556.183206, 4520.305344, 4496.259542, ...,  450.      ,\n",
       "         450.      ,  200.      ]])"
      ]
     },
     "execution_count": 29,
     "metadata": {},
     "output_type": "execute_result"
    }
   ],
   "source": [
    "train = data.iloc[:, 1:-1]\n",
    "train = train.to_numpy(np.float64)\n",
    "train"
   ]
  },
  {
   "cell_type": "code",
   "execution_count": 34,
   "id": "b88a59f8",
   "metadata": {},
   "outputs": [
    {
     "data": {
      "text/plain": [
       "array([[0.06243237, 0.69160775, 0.65865759, ..., 0.        , 0.        ,\n",
       "        0.        ],\n",
       "       [0.1153966 , 0.714192  , 0.58491352, ..., 0.        , 0.125     ,\n",
       "        0.        ],\n",
       "       [0.18876816, 0.73283572, 0.50128049, ..., 0.        , 0.25      ,\n",
       "        0.        ],\n",
       "       ...,\n",
       "       [0.85408093, 0.48153925, 0.68282593, ..., 1.        , 0.75      ,\n",
       "        1.        ],\n",
       "       [0.91564583, 0.56252155, 0.662821  , ..., 1.        , 0.875     ,\n",
       "        1.        ],\n",
       "       [0.97499289, 0.6484147 , 0.64923514, ..., 1.        , 1.        ,\n",
       "        1.        ]])"
      ]
     },
     "execution_count": 34,
     "metadata": {},
     "output_type": "execute_result"
    }
   ],
   "source": [
    "from sklearn.preprocessing import MinMaxScaler\n",
    "\n",
    "def normalization(X:np.ndarray):\n",
    "    if not isinstance(X, np.ndarray):\n",
    "         X = np.array(X)\n",
    "    minmax = MinMaxScaler()  # 对象实例化\n",
    "    X = minmax.fit_transform(X)\n",
    "    return X\n",
    "\n",
    "train = normalization(train)\n",
    "train"
   ]
  },
  {
   "cell_type": "code",
   "execution_count": 67,
   "id": "14345a2b",
   "metadata": {},
   "outputs": [
    {
     "data": {
      "text/plain": [
       "array([[ 0,  1,  2],\n",
       "       [ 3,  4,  5],\n",
       "       [ 6,  7,  8],\n",
       "       [ 9, 10, 11],\n",
       "       [12, 13, 14],\n",
       "       [15, 16, 17],\n",
       "       [18, 19, 20],\n",
       "       [21, 22, 23],\n",
       "       [24, 25, 26],\n",
       "       [27, 28, 29]])"
      ]
     },
     "execution_count": 67,
     "metadata": {},
     "output_type": "execute_result"
    }
   ],
   "source": [
    "data = np.arange(30).reshape(10, 3)\n",
    "data"
   ]
  },
  {
   "cell_type": "code",
   "execution_count": 78,
   "id": "c4cf758a",
   "metadata": {},
   "outputs": [
    {
     "data": {
      "text/plain": [
       "(array([20, 11, 23,  2, 26, 14, 17]), 20)"
      ]
     },
     "execution_count": 78,
     "metadata": {},
     "output_type": "execute_result"
    }
   ],
   "source": [
    "from sklearn.model_selection import train_test_split\n",
    "\n",
    "x, y = data[:, 0:-1], data[:, -1]\n",
    "x_train, x_test, y_train, y_test = train_test_split(x, y, random_state=22) # 训练集：测试集 = 7:3\n",
    "x_train, x_test, y_train, y_test\n",
    "x_train.size, len(x_train), x_train.shape, len(x)\n",
    "y_train, y_train[0]"
   ]
  },
  {
   "cell_type": "code",
   "execution_count": 64,
   "id": "403f8567",
   "metadata": {},
   "outputs": [
    {
     "data": {
      "text/plain": [
       "486.0"
      ]
     },
     "execution_count": 64,
     "metadata": {},
     "output_type": "execute_result"
    }
   ],
   "source": [
    "648*0.75"
   ]
  },
  {
   "cell_type": "code",
   "execution_count": 79,
   "id": "26f70488",
   "metadata": {
    "scrolled": false
   },
   "outputs": [
    {
     "data": {
      "text/html": [
       "<div>\n",
       "<style scoped>\n",
       "    .dataframe tbody tr th:only-of-type {\n",
       "        vertical-align: middle;\n",
       "    }\n",
       "\n",
       "    .dataframe tbody tr th {\n",
       "        vertical-align: top;\n",
       "    }\n",
       "\n",
       "    .dataframe thead th {\n",
       "        text-align: right;\n",
       "    }\n",
       "</style>\n",
       "<table border=\"1\" class=\"dataframe\">\n",
       "  <thead>\n",
       "    <tr style=\"text-align: right;\">\n",
       "      <th></th>\n",
       "      <th>num</th>\n",
       "      <th>A0</th>\n",
       "      <th>A1</th>\n",
       "      <th>A2</th>\n",
       "      <th>A3</th>\n",
       "      <th>x</th>\n",
       "      <th>y</th>\n",
       "      <th>z</th>\n",
       "      <th>label</th>\n",
       "    </tr>\n",
       "  </thead>\n",
       "  <tbody>\n",
       "    <tr>\n",
       "      <th>0</th>\n",
       "      <td>0</td>\n",
       "      <td>1016.931217</td>\n",
       "      <td>4782.857143</td>\n",
       "      <td>4552.962963</td>\n",
       "      <td>6298.994709</td>\n",
       "      <td>50</td>\n",
       "      <td>50</td>\n",
       "      <td>88</td>\n",
       "      <td>1</td>\n",
       "    </tr>\n",
       "    <tr>\n",
       "      <th>1</th>\n",
       "      <td>1</td>\n",
       "      <td>1338.424658</td>\n",
       "      <td>4920.136986</td>\n",
       "      <td>4109.178082</td>\n",
       "      <td>5943.561644</td>\n",
       "      <td>50</td>\n",
       "      <td>100</td>\n",
       "      <td>88</td>\n",
       "      <td>1</td>\n",
       "    </tr>\n",
       "    <tr>\n",
       "      <th>2</th>\n",
       "      <td>2</td>\n",
       "      <td>1783.790850</td>\n",
       "      <td>5033.464052</td>\n",
       "      <td>3605.882353</td>\n",
       "      <td>5619.150327</td>\n",
       "      <td>50</td>\n",
       "      <td>150</td>\n",
       "      <td>88</td>\n",
       "      <td>1</td>\n",
       "    </tr>\n",
       "    <tr>\n",
       "      <th>3</th>\n",
       "      <td>3</td>\n",
       "      <td>2253.617021</td>\n",
       "      <td>5218.563830</td>\n",
       "      <td>3085.159574</td>\n",
       "      <td>5322.819149</td>\n",
       "      <td>50</td>\n",
       "      <td>200</td>\n",
       "      <td>88</td>\n",
       "      <td>1</td>\n",
       "    </tr>\n",
       "    <tr>\n",
       "      <th>4</th>\n",
       "      <td>4</td>\n",
       "      <td>2727.142857</td>\n",
       "      <td>5370.285714</td>\n",
       "      <td>2600.142857</td>\n",
       "      <td>5033.238095</td>\n",
       "      <td>50</td>\n",
       "      <td>250</td>\n",
       "      <td>88</td>\n",
       "      <td>1</td>\n",
       "    </tr>\n",
       "    <tr>\n",
       "      <th>...</th>\n",
       "      <td>...</td>\n",
       "      <td>...</td>\n",
       "      <td>...</td>\n",
       "      <td>...</td>\n",
       "      <td>...</td>\n",
       "      <td>...</td>\n",
       "      <td>...</td>\n",
       "      <td>...</td>\n",
       "      <td>...</td>\n",
       "    </tr>\n",
       "    <tr>\n",
       "      <th>643</th>\n",
       "      <td>643</td>\n",
       "      <td>5330.505051</td>\n",
       "      <td>2519.191919</td>\n",
       "      <td>5143.131313</td>\n",
       "      <td>2555.050505</td>\n",
       "      <td>450</td>\n",
       "      <td>250</td>\n",
       "      <td>200</td>\n",
       "      <td>0</td>\n",
       "    </tr>\n",
       "    <tr>\n",
       "      <th>644</th>\n",
       "      <td>644</td>\n",
       "      <td>5536.000000</td>\n",
       "      <td>3048.600000</td>\n",
       "      <td>4881.300000</td>\n",
       "      <td>2035.800000</td>\n",
       "      <td>450</td>\n",
       "      <td>300</td>\n",
       "      <td>200</td>\n",
       "      <td>0</td>\n",
       "    </tr>\n",
       "    <tr>\n",
       "      <th>645</th>\n",
       "      <td>645</td>\n",
       "      <td>5822.246377</td>\n",
       "      <td>3505.942029</td>\n",
       "      <td>4698.405797</td>\n",
       "      <td>1598.985507</td>\n",
       "      <td>450</td>\n",
       "      <td>350</td>\n",
       "      <td>200</td>\n",
       "      <td>0</td>\n",
       "    </tr>\n",
       "    <tr>\n",
       "      <th>646</th>\n",
       "      <td>646</td>\n",
       "      <td>6195.945946</td>\n",
       "      <td>3998.198198</td>\n",
       "      <td>4578.018018</td>\n",
       "      <td>1170.720721</td>\n",
       "      <td>450</td>\n",
       "      <td>400</td>\n",
       "      <td>200</td>\n",
       "      <td>0</td>\n",
       "    </tr>\n",
       "    <tr>\n",
       "      <th>647</th>\n",
       "      <td>647</td>\n",
       "      <td>6556.183206</td>\n",
       "      <td>4520.305344</td>\n",
       "      <td>4496.259542</td>\n",
       "      <td>834.656489</td>\n",
       "      <td>450</td>\n",
       "      <td>450</td>\n",
       "      <td>200</td>\n",
       "      <td>0</td>\n",
       "    </tr>\n",
       "  </tbody>\n",
       "</table>\n",
       "<p>648 rows × 9 columns</p>\n",
       "</div>"
      ],
      "text/plain": [
       "     num           A0           A1           A2           A3    x    y    z  \\\n",
       "0      0  1016.931217  4782.857143  4552.962963  6298.994709   50   50   88   \n",
       "1      1  1338.424658  4920.136986  4109.178082  5943.561644   50  100   88   \n",
       "2      2  1783.790850  5033.464052  3605.882353  5619.150327   50  150   88   \n",
       "3      3  2253.617021  5218.563830  3085.159574  5322.819149   50  200   88   \n",
       "4      4  2727.142857  5370.285714  2600.142857  5033.238095   50  250   88   \n",
       "..   ...          ...          ...          ...          ...  ...  ...  ...   \n",
       "643  643  5330.505051  2519.191919  5143.131313  2555.050505  450  250  200   \n",
       "644  644  5536.000000  3048.600000  4881.300000  2035.800000  450  300  200   \n",
       "645  645  5822.246377  3505.942029  4698.405797  1598.985507  450  350  200   \n",
       "646  646  6195.945946  3998.198198  4578.018018  1170.720721  450  400  200   \n",
       "647  647  6556.183206  4520.305344  4496.259542   834.656489  450  450  200   \n",
       "\n",
       "     label  \n",
       "0        1  \n",
       "1        1  \n",
       "2        1  \n",
       "3        1  \n",
       "4        1  \n",
       "..     ...  \n",
       "643      0  \n",
       "644      0  \n",
       "645      0  \n",
       "646      0  \n",
       "647      0  \n",
       "\n",
       "[648 rows x 9 columns]"
      ]
     },
     "execution_count": 79,
     "metadata": {},
     "output_type": "execute_result"
    }
   ],
   "source": [
    "data = pd.read_csv(path)\n",
    "data"
   ]
  },
  {
   "cell_type": "code",
   "execution_count": 81,
   "id": "f61654dc",
   "metadata": {},
   "outputs": [
    {
     "ename": "TypeError",
     "evalue": "'(slice(None, None, None), slice(1, -1, None))' is an invalid key",
     "output_type": "error",
     "traceback": [
      "\u001b[1;31m---------------------------------------------------------------------------\u001b[0m",
      "\u001b[1;31mTypeError\u001b[0m                                 Traceback (most recent call last)",
      "\u001b[1;32m<ipython-input-81-d6c73ddfc250>\u001b[0m in \u001b[0;36m<module>\u001b[1;34m\u001b[0m\n\u001b[0;32m      1\u001b[0m \u001b[1;32mfrom\u001b[0m \u001b[0msklearn\u001b[0m\u001b[1;33m.\u001b[0m\u001b[0mmodel_selection\u001b[0m \u001b[1;32mimport\u001b[0m \u001b[0mtrain_test_split\u001b[0m\u001b[1;33m\u001b[0m\u001b[1;33m\u001b[0m\u001b[0m\n\u001b[0;32m      2\u001b[0m \u001b[1;33m\u001b[0m\u001b[0m\n\u001b[1;32m----> 3\u001b[1;33m \u001b[0mx\u001b[0m\u001b[1;33m,\u001b[0m \u001b[0my\u001b[0m \u001b[1;33m=\u001b[0m \u001b[0mdata\u001b[0m\u001b[1;33m[\u001b[0m\u001b[1;33m:\u001b[0m\u001b[1;33m,\u001b[0m \u001b[1;36m1\u001b[0m\u001b[1;33m:\u001b[0m\u001b[1;33m-\u001b[0m\u001b[1;36m1\u001b[0m\u001b[1;33m]\u001b[0m\u001b[1;33m,\u001b[0m \u001b[0mdata\u001b[0m\u001b[1;33m[\u001b[0m\u001b[1;33m:\u001b[0m\u001b[1;33m,\u001b[0m \u001b[1;33m-\u001b[0m\u001b[1;36m1\u001b[0m\u001b[1;33m]\u001b[0m\u001b[1;33m\u001b[0m\u001b[1;33m\u001b[0m\u001b[0m\n\u001b[0m\u001b[0;32m      4\u001b[0m \u001b[1;33m\u001b[0m\u001b[0m\n",
      "\u001b[1;32mD:\\Users\\JackYang\\anaconda3\\lib\\site-packages\\pandas\\core\\frame.py\u001b[0m in \u001b[0;36m__getitem__\u001b[1;34m(self, key)\u001b[0m\n\u001b[0;32m   3022\u001b[0m             \u001b[1;32mif\u001b[0m \u001b[0mself\u001b[0m\u001b[1;33m.\u001b[0m\u001b[0mcolumns\u001b[0m\u001b[1;33m.\u001b[0m\u001b[0mnlevels\u001b[0m \u001b[1;33m>\u001b[0m \u001b[1;36m1\u001b[0m\u001b[1;33m:\u001b[0m\u001b[1;33m\u001b[0m\u001b[1;33m\u001b[0m\u001b[0m\n\u001b[0;32m   3023\u001b[0m                 \u001b[1;32mreturn\u001b[0m \u001b[0mself\u001b[0m\u001b[1;33m.\u001b[0m\u001b[0m_getitem_multilevel\u001b[0m\u001b[1;33m(\u001b[0m\u001b[0mkey\u001b[0m\u001b[1;33m)\u001b[0m\u001b[1;33m\u001b[0m\u001b[1;33m\u001b[0m\u001b[0m\n\u001b[1;32m-> 3024\u001b[1;33m             \u001b[0mindexer\u001b[0m \u001b[1;33m=\u001b[0m \u001b[0mself\u001b[0m\u001b[1;33m.\u001b[0m\u001b[0mcolumns\u001b[0m\u001b[1;33m.\u001b[0m\u001b[0mget_loc\u001b[0m\u001b[1;33m(\u001b[0m\u001b[0mkey\u001b[0m\u001b[1;33m)\u001b[0m\u001b[1;33m\u001b[0m\u001b[1;33m\u001b[0m\u001b[0m\n\u001b[0m\u001b[0;32m   3025\u001b[0m             \u001b[1;32mif\u001b[0m \u001b[0mis_integer\u001b[0m\u001b[1;33m(\u001b[0m\u001b[0mindexer\u001b[0m\u001b[1;33m)\u001b[0m\u001b[1;33m:\u001b[0m\u001b[1;33m\u001b[0m\u001b[1;33m\u001b[0m\u001b[0m\n\u001b[0;32m   3026\u001b[0m                 \u001b[0mindexer\u001b[0m \u001b[1;33m=\u001b[0m \u001b[1;33m[\u001b[0m\u001b[0mindexer\u001b[0m\u001b[1;33m]\u001b[0m\u001b[1;33m\u001b[0m\u001b[1;33m\u001b[0m\u001b[0m\n",
      "\u001b[1;32mD:\\Users\\JackYang\\anaconda3\\lib\\site-packages\\pandas\\core\\indexes\\base.py\u001b[0m in \u001b[0;36mget_loc\u001b[1;34m(self, key, method, tolerance)\u001b[0m\n\u001b[0;32m   3078\u001b[0m             \u001b[0mcasted_key\u001b[0m \u001b[1;33m=\u001b[0m \u001b[0mself\u001b[0m\u001b[1;33m.\u001b[0m\u001b[0m_maybe_cast_indexer\u001b[0m\u001b[1;33m(\u001b[0m\u001b[0mkey\u001b[0m\u001b[1;33m)\u001b[0m\u001b[1;33m\u001b[0m\u001b[1;33m\u001b[0m\u001b[0m\n\u001b[0;32m   3079\u001b[0m             \u001b[1;32mtry\u001b[0m\u001b[1;33m:\u001b[0m\u001b[1;33m\u001b[0m\u001b[1;33m\u001b[0m\u001b[0m\n\u001b[1;32m-> 3080\u001b[1;33m                 \u001b[1;32mreturn\u001b[0m \u001b[0mself\u001b[0m\u001b[1;33m.\u001b[0m\u001b[0m_engine\u001b[0m\u001b[1;33m.\u001b[0m\u001b[0mget_loc\u001b[0m\u001b[1;33m(\u001b[0m\u001b[0mcasted_key\u001b[0m\u001b[1;33m)\u001b[0m\u001b[1;33m\u001b[0m\u001b[1;33m\u001b[0m\u001b[0m\n\u001b[0m\u001b[0;32m   3081\u001b[0m             \u001b[1;32mexcept\u001b[0m \u001b[0mKeyError\u001b[0m \u001b[1;32mas\u001b[0m \u001b[0merr\u001b[0m\u001b[1;33m:\u001b[0m\u001b[1;33m\u001b[0m\u001b[1;33m\u001b[0m\u001b[0m\n\u001b[0;32m   3082\u001b[0m                 \u001b[1;32mraise\u001b[0m \u001b[0mKeyError\u001b[0m\u001b[1;33m(\u001b[0m\u001b[0mkey\u001b[0m\u001b[1;33m)\u001b[0m \u001b[1;32mfrom\u001b[0m \u001b[0merr\u001b[0m\u001b[1;33m\u001b[0m\u001b[1;33m\u001b[0m\u001b[0m\n",
      "\u001b[1;32mpandas\\_libs\\index.pyx\u001b[0m in \u001b[0;36mpandas._libs.index.IndexEngine.get_loc\u001b[1;34m()\u001b[0m\n",
      "\u001b[1;32mpandas\\_libs\\index.pyx\u001b[0m in \u001b[0;36mpandas._libs.index.IndexEngine.get_loc\u001b[1;34m()\u001b[0m\n",
      "\u001b[1;31mTypeError\u001b[0m: '(slice(None, None, None), slice(1, -1, None))' is an invalid key"
     ]
    }
   ],
   "source": [
    "from sklearn.model_selection import train_test_split\n",
    "\n",
    "x, y = data[:, 1:-1], data[:, -1]\n",
    "# x_train, x_test, y_train, y_test = train_test_split(x, y, random_state=22) # 训练集：测试集 = 7:3\n",
    "# x_train, x_test, y_train, y_test\n"
   ]
  }
 ],
 "metadata": {
  "kernelspec": {
   "display_name": "Python 3",
   "language": "python",
   "name": "python3"
  },
  "language_info": {
   "codemirror_mode": {
    "name": "ipython",
    "version": 3
   },
   "file_extension": ".py",
   "mimetype": "text/x-python",
   "name": "python",
   "nbconvert_exporter": "python",
   "pygments_lexer": "ipython3",
   "version": "3.8.8"
  }
 },
 "nbformat": 4,
 "nbformat_minor": 5
}

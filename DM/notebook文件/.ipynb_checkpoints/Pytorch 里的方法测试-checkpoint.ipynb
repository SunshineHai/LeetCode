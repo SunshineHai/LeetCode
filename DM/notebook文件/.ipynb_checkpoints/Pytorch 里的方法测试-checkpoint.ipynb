{
 "cells": [
  {
   "cell_type": "markdown",
   "id": "6aad2ee3",
   "metadata": {},
   "source": [
    "## 方法测试"
   ]
  },
  {
   "cell_type": "code",
   "execution_count": 2,
   "id": "d838c8d7",
   "metadata": {},
   "outputs": [],
   "source": [
    "import torch\n",
    "from torch import nn\n",
    "\n",
    "nn.Linear()\n"
   ]
  },
  {
   "cell_type": "code",
   "execution_count": 5,
   "id": "b19302a8",
   "metadata": {},
   "outputs": [
    {
     "data": {
      "text/plain": [
       "tensor([[ 1.2708, -1.1960, -0.6886],\n",
       "        [ 0.0353, -0.2993, -0.3243]])"
      ]
     },
     "execution_count": 5,
     "metadata": {},
     "output_type": "execute_result"
    }
   ],
   "source": [
    "a = torch.randn(2, 3)   # (mu=0, sigma=1)\n"
   ]
  }
 ],
 "metadata": {
  "kernelspec": {
   "display_name": "Python [conda env:pytorch]",
   "language": "python",
   "name": "conda-env-pytorch-py"
  },
  "language_info": {
   "codemirror_mode": {
    "name": "ipython",
    "version": 3
   },
   "file_extension": ".py",
   "mimetype": "text/x-python",
   "name": "python",
   "nbconvert_exporter": "python",
   "pygments_lexer": "ipython3",
   "version": "3.8.12"
  }
 },
 "nbformat": 4,
 "nbformat_minor": 5
}

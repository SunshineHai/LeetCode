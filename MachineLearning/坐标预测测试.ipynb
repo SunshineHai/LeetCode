{
 "cells": [
  {
   "cell_type": "markdown",
   "id": "4a807d98",
   "metadata": {},
   "source": [
    "## 1.获取数据"
   ]
  },
  {
   "cell_type": "code",
   "execution_count": 1,
   "id": "9d1d41bf",
   "metadata": {},
   "outputs": [
    {
     "data": {
      "text/html": [
       "<div>\n",
       "<style scoped>\n",
       "    .dataframe tbody tr th:only-of-type {\n",
       "        vertical-align: middle;\n",
       "    }\n",
       "\n",
       "    .dataframe tbody tr th {\n",
       "        vertical-align: top;\n",
       "    }\n",
       "\n",
       "    .dataframe thead th {\n",
       "        text-align: right;\n",
       "    }\n",
       "</style>\n",
       "<table border=\"1\" class=\"dataframe\">\n",
       "  <thead>\n",
       "    <tr style=\"text-align: right;\">\n",
       "      <th></th>\n",
       "      <th>Unnamed: 0</th>\n",
       "      <th>A0</th>\n",
       "      <th>A1</th>\n",
       "      <th>A2</th>\n",
       "      <th>A3</th>\n",
       "      <th>x</th>\n",
       "      <th>y</th>\n",
       "      <th>z</th>\n",
       "      <th>label</th>\n",
       "    </tr>\n",
       "  </thead>\n",
       "  <tbody>\n",
       "    <tr>\n",
       "      <th>0</th>\n",
       "      <td>0</td>\n",
       "      <td>1016.931217</td>\n",
       "      <td>4782.857143</td>\n",
       "      <td>4552.962963</td>\n",
       "      <td>6298.994709</td>\n",
       "      <td>50</td>\n",
       "      <td>50</td>\n",
       "      <td>88</td>\n",
       "      <td>1</td>\n",
       "    </tr>\n",
       "    <tr>\n",
       "      <th>1</th>\n",
       "      <td>1</td>\n",
       "      <td>1338.424658</td>\n",
       "      <td>4920.136986</td>\n",
       "      <td>4109.178082</td>\n",
       "      <td>5943.561644</td>\n",
       "      <td>50</td>\n",
       "      <td>100</td>\n",
       "      <td>88</td>\n",
       "      <td>1</td>\n",
       "    </tr>\n",
       "    <tr>\n",
       "      <th>2</th>\n",
       "      <td>2</td>\n",
       "      <td>1783.790850</td>\n",
       "      <td>5033.464052</td>\n",
       "      <td>3605.882353</td>\n",
       "      <td>5619.150327</td>\n",
       "      <td>50</td>\n",
       "      <td>150</td>\n",
       "      <td>88</td>\n",
       "      <td>1</td>\n",
       "    </tr>\n",
       "    <tr>\n",
       "      <th>3</th>\n",
       "      <td>3</td>\n",
       "      <td>2253.617021</td>\n",
       "      <td>5218.563830</td>\n",
       "      <td>3085.159574</td>\n",
       "      <td>5322.819149</td>\n",
       "      <td>50</td>\n",
       "      <td>200</td>\n",
       "      <td>88</td>\n",
       "      <td>1</td>\n",
       "    </tr>\n",
       "    <tr>\n",
       "      <th>4</th>\n",
       "      <td>4</td>\n",
       "      <td>2727.142857</td>\n",
       "      <td>5370.285714</td>\n",
       "      <td>2600.142857</td>\n",
       "      <td>5033.238095</td>\n",
       "      <td>50</td>\n",
       "      <td>250</td>\n",
       "      <td>88</td>\n",
       "      <td>1</td>\n",
       "    </tr>\n",
       "  </tbody>\n",
       "</table>\n",
       "</div>"
      ],
      "text/plain": [
       "   Unnamed: 0           A0           A1           A2           A3   x    y  \\\n",
       "0           0  1016.931217  4782.857143  4552.962963  6298.994709  50   50   \n",
       "1           1  1338.424658  4920.136986  4109.178082  5943.561644  50  100   \n",
       "2           2  1783.790850  5033.464052  3605.882353  5619.150327  50  150   \n",
       "3           3  2253.617021  5218.563830  3085.159574  5322.819149  50  200   \n",
       "4           4  2727.142857  5370.285714  2600.142857  5033.238095  50  250   \n",
       "\n",
       "    z  label  \n",
       "0  88      1  \n",
       "1  88      1  \n",
       "2  88      1  \n",
       "3  88      1  \n",
       "4  88      1  "
      ]
     },
     "execution_count": 1,
     "metadata": {},
     "output_type": "execute_result"
    }
   ],
   "source": [
    "import pandas as pd\n",
    "import numpy as np\n",
    "from sklearn.model_selection import train_test_split\n",
    "from sklearn.preprocessing import StandardScaler\n",
    "from sklearn.linear_model import LogisticRegression\n",
    "\n",
    "data = pd.read_csv(r'data\\distance.csv')\n",
    "data.head()"
   ]
  },
  {
   "cell_type": "markdown",
   "id": "d68d67f0",
   "metadata": {},
   "source": [
    "## 2. 基本数据处理"
   ]
  },
  {
   "cell_type": "markdown",
   "id": "388680fb",
   "metadata": {},
   "source": [
    "### 画出每列的缺失值的条形图"
   ]
  },
  {
   "cell_type": "code",
   "execution_count": 2,
   "id": "ec5d25d6",
   "metadata": {},
   "outputs": [
    {
     "data": {
      "text/plain": [
       "Unnamed: 0    0\n",
       "A0            0\n",
       "A1            0\n",
       "A2            0\n",
       "A3            0\n",
       "x             0\n",
       "y             0\n",
       "z             0\n",
       "label         0\n",
       "dtype: int64"
      ]
     },
     "execution_count": 2,
     "metadata": {},
     "output_type": "execute_result"
    }
   ],
   "source": [
    "\n",
    "missing = data.isnull().sum()\n",
    "missing\n",
    "# missing = missing[missing > 0]\n",
    "# missing.sort_values(inplace=True)\n",
    "# missing.plot.bar()"
   ]
  },
  {
   "cell_type": "markdown",
   "id": "4579a8ad",
   "metadata": {},
   "source": [
    "### 单变量分析"
   ]
  },
  {
   "cell_type": "code",
   "execution_count": 3,
   "id": "3740a386",
   "metadata": {
    "scrolled": true
   },
   "outputs": [
    {
     "data": {
      "text/plain": [
       "count    648.000000\n",
       "mean       0.500000\n",
       "std        0.500386\n",
       "min        0.000000\n",
       "25%        0.000000\n",
       "50%        0.500000\n",
       "75%        1.000000\n",
       "max        1.000000\n",
       "Name: label, dtype: float64"
      ]
     },
     "execution_count": 3,
     "metadata": {},
     "output_type": "execute_result"
    }
   ],
   "source": [
    "data['label'].describe()"
   ]
  },
  {
   "cell_type": "code",
   "execution_count": 4,
   "id": "766f5569",
   "metadata": {
    "scrolled": true
   },
   "outputs": [
    {
     "name": "stderr",
     "output_type": "stream",
     "text": [
      "D:\\Users\\JackYang\\anaconda3\\envs\\dataAna\\lib\\site-packages\\seaborn\\distributions.py:2619: FutureWarning: `distplot` is a deprecated function and will be removed in a future version. Please adapt your code to use either `displot` (a figure-level function with similar flexibility) or `histplot` (an axes-level function for histograms).\n",
      "  warnings.warn(msg, FutureWarning)\n"
     ]
    },
    {
     "data": {
      "text/plain": [
       "<AxesSubplot:xlabel='label', ylabel='Density'>"
      ]
     },
     "execution_count": 4,
     "metadata": {},
     "output_type": "execute_result"
    },
    {
     "data": {
      "image/png": "[encoded data removed]",
      "text/plain": [
       "<Figure size 648x576 with 1 Axes>"
      ]
     },
     "metadata": {
      "needs_background": "light"
     },
     "output_type": "display_data"
    }
   ],
   "source": [
    "import matplotlib.pyplot as plt\n",
    "import seaborn as sns\n",
    "\n",
    "plt.figure(figsize=(9, 8))\n",
    "sns.distplot(data['label'], color='g', bins=100, hist_kws={'alpha':0.4})\n"
   ]
  },
  {
   "cell_type": "code",
   "execution_count": 5,
   "id": "8edd071f",
   "metadata": {},
   "outputs": [
    {
     "data": {
      "text/plain": [
       "<seaborn.axisgrid.FacetGrid at 0x168d373a370>"
      ]
     },
     "execution_count": 5,
     "metadata": {},
     "output_type": "execute_result"
    },
    {
     "data": {
      "image/png": "[encoded data removed]",
      "text/plain": [
       "<Figure size 360x360 with 1 Axes>"
      ]
     },
     "metadata": {
      "needs_background": "light"
     },
     "output_type": "display_data"
    }
   ],
   "source": [
    "sns.displot(data=data, x='label')"
   ]
  },
  {
   "cell_type": "markdown",
   "id": "9a9b6cd0",
   "metadata": {},
   "source": [
    "### 相似性矩阵"
   ]
  },
  {
   "cell_type": "code",
   "execution_count": 6,
   "id": "df9e0b14",
   "metadata": {
    "scrolled": true
   },
   "outputs": [
    {
     "data": {
      "text/plain": [
       "<AxesSubplot:>"
      ]
     },
     "execution_count": 6,
     "metadata": {},
     "output_type": "execute_result"
    },
    {
     "data": {
      "image/png": "[encoded data removed]",
      "text/plain": [
       "<Figure size 1440x648 with 2 Axes>"
      ]
     },
     "metadata": {
      "needs_background": "light"
     },
     "output_type": "display_data"
    }
   ],
   "source": [
    "corrmat = data.corr()\n",
    "f, ax = plt.subplots(figsize = (20, 9))\n",
    "sns.heatmap(corrmat, vmax=0.8, square=True)"
   ]
  },
  {
   "cell_type": "code",
   "execution_count": 7,
   "id": "00976e85",
   "metadata": {
    "scrolled": true
   },
   "outputs": [
    {
     "data": {
      "text/html": [
       "<div>\n",
       "<style scoped>\n",
       "    .dataframe tbody tr th:only-of-type {\n",
       "        vertical-align: middle;\n",
       "    }\n",
       "\n",
       "    .dataframe tbody tr th {\n",
       "        vertical-align: top;\n",
       "    }\n",
       "\n",
       "    .dataframe thead th {\n",
       "        text-align: right;\n",
       "    }\n",
       "</style>\n",
       "<table border=\"1\" class=\"dataframe\">\n",
       "  <thead>\n",
       "    <tr style=\"text-align: right;\">\n",
       "      <th></th>\n",
       "      <th>Unnamed: 0</th>\n",
       "      <th>A0</th>\n",
       "      <th>A1</th>\n",
       "      <th>A2</th>\n",
       "      <th>A3</th>\n",
       "      <th>x</th>\n",
       "      <th>y</th>\n",
       "      <th>z</th>\n",
       "      <th>label</th>\n",
       "    </tr>\n",
       "  </thead>\n",
       "  <tbody>\n",
       "    <tr>\n",
       "      <th>0</th>\n",
       "      <td>0</td>\n",
       "      <td>1016.931217</td>\n",
       "      <td>4782.857143</td>\n",
       "      <td>4552.962963</td>\n",
       "      <td>6298.994709</td>\n",
       "      <td>50</td>\n",
       "      <td>50</td>\n",
       "      <td>88</td>\n",
       "      <td>1</td>\n",
       "    </tr>\n",
       "    <tr>\n",
       "      <th>1</th>\n",
       "      <td>1</td>\n",
       "      <td>1338.424658</td>\n",
       "      <td>4920.136986</td>\n",
       "      <td>4109.178082</td>\n",
       "      <td>5943.561644</td>\n",
       "      <td>50</td>\n",
       "      <td>100</td>\n",
       "      <td>88</td>\n",
       "      <td>1</td>\n",
       "    </tr>\n",
       "    <tr>\n",
       "      <th>2</th>\n",
       "      <td>2</td>\n",
       "      <td>1783.790850</td>\n",
       "      <td>5033.464052</td>\n",
       "      <td>3605.882353</td>\n",
       "      <td>5619.150327</td>\n",
       "      <td>50</td>\n",
       "      <td>150</td>\n",
       "      <td>88</td>\n",
       "      <td>1</td>\n",
       "    </tr>\n",
       "    <tr>\n",
       "      <th>3</th>\n",
       "      <td>3</td>\n",
       "      <td>2253.617021</td>\n",
       "      <td>5218.563830</td>\n",
       "      <td>3085.159574</td>\n",
       "      <td>5322.819149</td>\n",
       "      <td>50</td>\n",
       "      <td>200</td>\n",
       "      <td>88</td>\n",
       "      <td>1</td>\n",
       "    </tr>\n",
       "    <tr>\n",
       "      <th>4</th>\n",
       "      <td>4</td>\n",
       "      <td>2727.142857</td>\n",
       "      <td>5370.285714</td>\n",
       "      <td>2600.142857</td>\n",
       "      <td>5033.238095</td>\n",
       "      <td>50</td>\n",
       "      <td>250</td>\n",
       "      <td>88</td>\n",
       "      <td>1</td>\n",
       "    </tr>\n",
       "  </tbody>\n",
       "</table>\n",
       "</div>"
      ],
      "text/plain": [
       "   Unnamed: 0           A0           A1           A2           A3   x    y  \\\n",
       "0           0  1016.931217  4782.857143  4552.962963  6298.994709  50   50   \n",
       "1           1  1338.424658  4920.136986  4109.178082  5943.561644  50  100   \n",
       "2           2  1783.790850  5033.464052  3605.882353  5619.150327  50  150   \n",
       "3           3  2253.617021  5218.563830  3085.159574  5322.819149  50  200   \n",
       "4           4  2727.142857  5370.285714  2600.142857  5033.238095  50  250   \n",
       "\n",
       "    z  label  \n",
       "0  88      1  \n",
       "1  88      1  \n",
       "2  88      1  \n",
       "3  88      1  \n",
       "4  88      1  "
      ]
     },
     "execution_count": 7,
     "metadata": {},
     "output_type": "execute_result"
    }
   ],
   "source": [
    "data.head()"
   ]
  },
  {
   "cell_type": "code",
   "execution_count": 8,
   "id": "ec7cdcaa",
   "metadata": {},
   "outputs": [
    {
     "data": {
      "text/html": [
       "<div>\n",
       "<style scoped>\n",
       "    .dataframe tbody tr th:only-of-type {\n",
       "        vertical-align: middle;\n",
       "    }\n",
       "\n",
       "    .dataframe tbody tr th {\n",
       "        vertical-align: top;\n",
       "    }\n",
       "\n",
       "    .dataframe thead th {\n",
       "        text-align: right;\n",
       "    }\n",
       "</style>\n",
       "<table border=\"1\" class=\"dataframe\">\n",
       "  <thead>\n",
       "    <tr style=\"text-align: right;\">\n",
       "      <th></th>\n",
       "      <th>Unnamed: 0</th>\n",
       "      <th>A0</th>\n",
       "      <th>A1</th>\n",
       "      <th>A2</th>\n",
       "      <th>A3</th>\n",
       "      <th>x</th>\n",
       "      <th>y</th>\n",
       "      <th>z</th>\n",
       "      <th>label</th>\n",
       "    </tr>\n",
       "  </thead>\n",
       "  <tbody>\n",
       "    <tr>\n",
       "      <th>0</th>\n",
       "      <td>0</td>\n",
       "      <td>1016.931217</td>\n",
       "      <td>4782.857143</td>\n",
       "      <td>4552.962963</td>\n",
       "      <td>6298.994709</td>\n",
       "      <td>50</td>\n",
       "      <td>50</td>\n",
       "      <td>88</td>\n",
       "      <td>1</td>\n",
       "    </tr>\n",
       "    <tr>\n",
       "      <th>1</th>\n",
       "      <td>1</td>\n",
       "      <td>1338.424658</td>\n",
       "      <td>4920.136986</td>\n",
       "      <td>4109.178082</td>\n",
       "      <td>5943.561644</td>\n",
       "      <td>50</td>\n",
       "      <td>100</td>\n",
       "      <td>88</td>\n",
       "      <td>1</td>\n",
       "    </tr>\n",
       "    <tr>\n",
       "      <th>2</th>\n",
       "      <td>2</td>\n",
       "      <td>1783.790850</td>\n",
       "      <td>5033.464052</td>\n",
       "      <td>3605.882353</td>\n",
       "      <td>5619.150327</td>\n",
       "      <td>50</td>\n",
       "      <td>150</td>\n",
       "      <td>88</td>\n",
       "      <td>1</td>\n",
       "    </tr>\n",
       "    <tr>\n",
       "      <th>3</th>\n",
       "      <td>3</td>\n",
       "      <td>2253.617021</td>\n",
       "      <td>5218.563830</td>\n",
       "      <td>3085.159574</td>\n",
       "      <td>5322.819149</td>\n",
       "      <td>50</td>\n",
       "      <td>200</td>\n",
       "      <td>88</td>\n",
       "      <td>1</td>\n",
       "    </tr>\n",
       "    <tr>\n",
       "      <th>4</th>\n",
       "      <td>4</td>\n",
       "      <td>2727.142857</td>\n",
       "      <td>5370.285714</td>\n",
       "      <td>2600.142857</td>\n",
       "      <td>5033.238095</td>\n",
       "      <td>50</td>\n",
       "      <td>250</td>\n",
       "      <td>88</td>\n",
       "      <td>1</td>\n",
       "    </tr>\n",
       "  </tbody>\n",
       "</table>\n",
       "</div>"
      ],
      "text/plain": [
       "   Unnamed: 0           A0           A1           A2           A3   x    y  \\\n",
       "0           0  1016.931217  4782.857143  4552.962963  6298.994709  50   50   \n",
       "1           1  1338.424658  4920.136986  4109.178082  5943.561644  50  100   \n",
       "2           2  1783.790850  5033.464052  3605.882353  5619.150327  50  150   \n",
       "3           3  2253.617021  5218.563830  3085.159574  5322.819149  50  200   \n",
       "4           4  2727.142857  5370.285714  2600.142857  5033.238095  50  250   \n",
       "\n",
       "    z  label  \n",
       "0  88      1  \n",
       "1  88      1  \n",
       "2  88      1  \n",
       "3  88      1  \n",
       "4  88      1  "
      ]
     },
     "execution_count": 8,
     "metadata": {},
     "output_type": "execute_result"
    }
   ],
   "source": [
    "# 2.1 缺失值处理\n",
    "data = data.replace(to_replace=\"?\", value=np.NaN) # 把data中的 to_replece 值 替换为 value.\n",
    "data = data.dropna()        # 删除有空值的行，默认 axis=0      \n",
    "data.head()"
   ]
  },
  {
   "cell_type": "markdown",
   "id": "fda4db8d",
   "metadata": {},
   "source": [
    "## 3.确定特征值,目标值"
   ]
  },
  {
   "cell_type": "code",
   "execution_count": 9,
   "id": "0d682055",
   "metadata": {},
   "outputs": [
    {
     "data": {
      "text/plain": [
       "Index(['Unnamed: 0', 'A0', 'A1', 'A2', 'A3', 'x', 'y', 'z', 'label'], dtype='object')"
      ]
     },
     "execution_count": 9,
     "metadata": {},
     "output_type": "execute_result"
    }
   ],
   "source": [
    "data.columns    # 所有的列名"
   ]
  },
  {
   "cell_type": "code",
   "execution_count": 10,
   "id": "7b19d7c1",
   "metadata": {
    "scrolled": true
   },
   "outputs": [
    {
     "data": {
      "text/plain": [
       "0    1\n",
       "1    1\n",
       "2    1\n",
       "3    1\n",
       "4    1\n",
       "Name: label, dtype: int64"
      ]
     },
     "execution_count": 10,
     "metadata": {},
     "output_type": "execute_result"
    }
   ],
   "source": [
    "x = data.iloc[:, 1:8]\n",
    "x.head()\n",
    "y = data[\"label\"]\n",
    "y.head()"
   ]
  },
  {
   "cell_type": "code",
   "execution_count": 11,
   "id": "eb874281",
   "metadata": {},
   "outputs": [
    {
     "data": {
      "text/html": [
       "<div>\n",
       "<style scoped>\n",
       "    .dataframe tbody tr th:only-of-type {\n",
       "        vertical-align: middle;\n",
       "    }\n",
       "\n",
       "    .dataframe tbody tr th {\n",
       "        vertical-align: top;\n",
       "    }\n",
       "\n",
       "    .dataframe thead th {\n",
       "        text-align: right;\n",
       "    }\n",
       "</style>\n",
       "<table border=\"1\" class=\"dataframe\">\n",
       "  <thead>\n",
       "    <tr style=\"text-align: right;\">\n",
       "      <th></th>\n",
       "      <th>A0</th>\n",
       "      <th>A1</th>\n",
       "      <th>A2</th>\n",
       "      <th>A3</th>\n",
       "      <th>x</th>\n",
       "      <th>y</th>\n",
       "      <th>z</th>\n",
       "    </tr>\n",
       "  </thead>\n",
       "  <tbody>\n",
       "    <tr>\n",
       "      <th>0</th>\n",
       "      <td>1016.931217</td>\n",
       "      <td>4782.857143</td>\n",
       "      <td>4552.962963</td>\n",
       "      <td>6298.994709</td>\n",
       "      <td>50</td>\n",
       "      <td>50</td>\n",
       "      <td>88</td>\n",
       "    </tr>\n",
       "    <tr>\n",
       "      <th>1</th>\n",
       "      <td>1338.424658</td>\n",
       "      <td>4920.136986</td>\n",
       "      <td>4109.178082</td>\n",
       "      <td>5943.561644</td>\n",
       "      <td>50</td>\n",
       "      <td>100</td>\n",
       "      <td>88</td>\n",
       "    </tr>\n",
       "    <tr>\n",
       "      <th>2</th>\n",
       "      <td>1783.790850</td>\n",
       "      <td>5033.464052</td>\n",
       "      <td>3605.882353</td>\n",
       "      <td>5619.150327</td>\n",
       "      <td>50</td>\n",
       "      <td>150</td>\n",
       "      <td>88</td>\n",
       "    </tr>\n",
       "    <tr>\n",
       "      <th>3</th>\n",
       "      <td>2253.617021</td>\n",
       "      <td>5218.563830</td>\n",
       "      <td>3085.159574</td>\n",
       "      <td>5322.819149</td>\n",
       "      <td>50</td>\n",
       "      <td>200</td>\n",
       "      <td>88</td>\n",
       "    </tr>\n",
       "    <tr>\n",
       "      <th>4</th>\n",
       "      <td>2727.142857</td>\n",
       "      <td>5370.285714</td>\n",
       "      <td>2600.142857</td>\n",
       "      <td>5033.238095</td>\n",
       "      <td>50</td>\n",
       "      <td>250</td>\n",
       "      <td>88</td>\n",
       "    </tr>\n",
       "  </tbody>\n",
       "</table>\n",
       "</div>"
      ],
      "text/plain": [
       "            A0           A1           A2           A3   x    y   z\n",
       "0  1016.931217  4782.857143  4552.962963  6298.994709  50   50  88\n",
       "1  1338.424658  4920.136986  4109.178082  5943.561644  50  100  88\n",
       "2  1783.790850  5033.464052  3605.882353  5619.150327  50  150  88\n",
       "3  2253.617021  5218.563830  3085.159574  5322.819149  50  200  88\n",
       "4  2727.142857  5370.285714  2600.142857  5033.238095  50  250  88"
      ]
     },
     "execution_count": 11,
     "metadata": {},
     "output_type": "execute_result"
    }
   ],
   "source": [
    "x.head()"
   ]
  },
  {
   "cell_type": "code",
   "execution_count": 12,
   "id": "980935cc",
   "metadata": {},
   "outputs": [
    {
     "data": {
      "text/plain": [
       "486.0"
      ]
     },
     "execution_count": 12,
     "metadata": {},
     "output_type": "execute_result"
    }
   ],
   "source": [
    "x.shape[0]*0.75"
   ]
  },
  {
   "cell_type": "markdown",
   "id": "98ffa755",
   "metadata": {},
   "source": [
    "## 4.分割数据"
   ]
  },
  {
   "cell_type": "code",
   "execution_count": 13,
   "id": "b5bef7f3",
   "metadata": {},
   "outputs": [
    {
     "data": {
      "text/html": [
       "<div>\n",
       "<style scoped>\n",
       "    .dataframe tbody tr th:only-of-type {\n",
       "        vertical-align: middle;\n",
       "    }\n",
       "\n",
       "    .dataframe tbody tr th {\n",
       "        vertical-align: top;\n",
       "    }\n",
       "\n",
       "    .dataframe thead th {\n",
       "        text-align: right;\n",
       "    }\n",
       "</style>\n",
       "<table border=\"1\" class=\"dataframe\">\n",
       "  <thead>\n",
       "    <tr style=\"text-align: right;\">\n",
       "      <th></th>\n",
       "      <th>A0</th>\n",
       "      <th>A1</th>\n",
       "      <th>A2</th>\n",
       "      <th>A3</th>\n",
       "      <th>x</th>\n",
       "      <th>y</th>\n",
       "      <th>z</th>\n",
       "    </tr>\n",
       "  </thead>\n",
       "  <tbody>\n",
       "    <tr>\n",
       "      <th>327</th>\n",
       "      <td>2008.590604</td>\n",
       "      <td>4974.228188</td>\n",
       "      <td>3085.503356</td>\n",
       "      <td>5323.355705</td>\n",
       "      <td>50</td>\n",
       "      <td>200</td>\n",
       "      <td>88</td>\n",
       "    </tr>\n",
       "    <tr>\n",
       "      <th>56</th>\n",
       "      <td>3933.161290</td>\n",
       "      <td>2261.741935</td>\n",
       "      <td>5203.161290</td>\n",
       "      <td>3848.516129</td>\n",
       "      <td>350</td>\n",
       "      <td>150</td>\n",
       "      <td>88</td>\n",
       "    </tr>\n",
       "    <tr>\n",
       "      <th>242</th>\n",
       "      <td>6546.121495</td>\n",
       "      <td>4638.738318</td>\n",
       "      <td>4462.803738</td>\n",
       "      <td>869.252336</td>\n",
       "      <td>450</td>\n",
       "      <td>450</td>\n",
       "      <td>170</td>\n",
       "    </tr>\n",
       "    <tr>\n",
       "      <th>5</th>\n",
       "      <td>3212.800000</td>\n",
       "      <td>5665.200000</td>\n",
       "      <td>2149.911111</td>\n",
       "      <td>4832.577778</td>\n",
       "      <td>50</td>\n",
       "      <td>300</td>\n",
       "      <td>88</td>\n",
       "    </tr>\n",
       "    <tr>\n",
       "      <th>449</th>\n",
       "      <td>5138.976378</td>\n",
       "      <td>5117.716535</td>\n",
       "      <td>2554.251969</td>\n",
       "      <td>2446.771654</td>\n",
       "      <td>250</td>\n",
       "      <td>450</td>\n",
       "      <td>130</td>\n",
       "    </tr>\n",
       "    <tr>\n",
       "      <th>...</th>\n",
       "      <td>...</td>\n",
       "      <td>...</td>\n",
       "      <td>...</td>\n",
       "      <td>...</td>\n",
       "      <td>...</td>\n",
       "      <td>...</td>\n",
       "      <td>...</td>\n",
       "    </tr>\n",
       "    <tr>\n",
       "      <th>491</th>\n",
       "      <td>2979.007092</td>\n",
       "      <td>5374.609929</td>\n",
       "      <td>1948.226950</td>\n",
       "      <td>4928.297872</td>\n",
       "      <td>50</td>\n",
       "      <td>300</td>\n",
       "      <td>170</td>\n",
       "    </tr>\n",
       "    <tr>\n",
       "      <th>502</th>\n",
       "      <td>1375.707317</td>\n",
       "      <td>4091.414634</td>\n",
       "      <td>4167.268293</td>\n",
       "      <td>5628.926829</td>\n",
       "      <td>100</td>\n",
       "      <td>100</td>\n",
       "      <td>170</td>\n",
       "    </tr>\n",
       "    <tr>\n",
       "      <th>358</th>\n",
       "      <td>2200.423729</td>\n",
       "      <td>3178.559322</td>\n",
       "      <td>4556.694915</td>\n",
       "      <td>4955.677966</td>\n",
       "      <td>200</td>\n",
       "      <td>100</td>\n",
       "      <td>88</td>\n",
       "    </tr>\n",
       "    <tr>\n",
       "      <th>356</th>\n",
       "      <td>2788.269231</td>\n",
       "      <td>3631.730769</td>\n",
       "      <td>3693.750000</td>\n",
       "      <td>4229.326923</td>\n",
       "      <td>200</td>\n",
       "      <td>200</td>\n",
       "      <td>88</td>\n",
       "    </tr>\n",
       "    <tr>\n",
       "      <th>132</th>\n",
       "      <td>3312.545455</td>\n",
       "      <td>2428.227273</td>\n",
       "      <td>5024.227273</td>\n",
       "      <td>4202.136364</td>\n",
       "      <td>300</td>\n",
       "      <td>150</td>\n",
       "      <td>130</td>\n",
       "    </tr>\n",
       "  </tbody>\n",
       "</table>\n",
       "<p>486 rows × 7 columns</p>\n",
       "</div>"
      ],
      "text/plain": [
       "              A0           A1           A2           A3    x    y    z\n",
       "327  2008.590604  4974.228188  3085.503356  5323.355705   50  200   88\n",
       "56   3933.161290  2261.741935  5203.161290  3848.516129  350  150   88\n",
       "242  6546.121495  4638.738318  4462.803738   869.252336  450  450  170\n",
       "5    3212.800000  5665.200000  2149.911111  4832.577778   50  300   88\n",
       "449  5138.976378  5117.716535  2554.251969  2446.771654  250  450  130\n",
       "..           ...          ...          ...          ...  ...  ...  ...\n",
       "491  2979.007092  5374.609929  1948.226950  4928.297872   50  300  170\n",
       "502  1375.707317  4091.414634  4167.268293  5628.926829  100  100  170\n",
       "358  2200.423729  3178.559322  4556.694915  4955.677966  200  100   88\n",
       "356  2788.269231  3631.730769  3693.750000  4229.326923  200  200   88\n",
       "132  3312.545455  2428.227273  5024.227273  4202.136364  300  150  130\n",
       "\n",
       "[486 rows x 7 columns]"
      ]
     },
     "execution_count": 13,
     "metadata": {},
     "output_type": "execute_result"
    }
   ],
   "source": [
    "X_train, X_test, y_train, y_test = train_test_split(x, y, random_state=22) # 训练集和测试集按照 0.75 : 0.25 (随机)\n",
    "X_train"
   ]
  },
  {
   "cell_type": "code",
   "execution_count": 14,
   "id": "8dd0ed0c",
   "metadata": {},
   "outputs": [
    {
     "data": {
      "text/html": [
       "<div>\n",
       "<style scoped>\n",
       "    .dataframe tbody tr th:only-of-type {\n",
       "        vertical-align: middle;\n",
       "    }\n",
       "\n",
       "    .dataframe tbody tr th {\n",
       "        vertical-align: top;\n",
       "    }\n",
       "\n",
       "    .dataframe thead th {\n",
       "        text-align: right;\n",
       "    }\n",
       "</style>\n",
       "<table border=\"1\" class=\"dataframe\">\n",
       "  <thead>\n",
       "    <tr style=\"text-align: right;\">\n",
       "      <th></th>\n",
       "      <th>A0</th>\n",
       "      <th>A1</th>\n",
       "      <th>A2</th>\n",
       "      <th>A3</th>\n",
       "      <th>x</th>\n",
       "      <th>y</th>\n",
       "      <th>z</th>\n",
       "    </tr>\n",
       "  </thead>\n",
       "  <tbody>\n",
       "    <tr>\n",
       "      <th>623</th>\n",
       "      <td>3972.727273</td>\n",
       "      <td>1984.696970</td>\n",
       "      <td>4976.515152</td>\n",
       "      <td>3870.606061</td>\n",
       "      <td>350</td>\n",
       "      <td>150</td>\n",
       "      <td>200</td>\n",
       "    </tr>\n",
       "    <tr>\n",
       "      <th>389</th>\n",
       "      <td>5275.652174</td>\n",
       "      <td>3712.347826</td>\n",
       "      <td>4345.391304</td>\n",
       "      <td>1755.826087</td>\n",
       "      <td>400</td>\n",
       "      <td>350</td>\n",
       "      <td>88</td>\n",
       "    </tr>\n",
       "    <tr>\n",
       "      <th>551</th>\n",
       "      <td>5392.123288</td>\n",
       "      <td>3570.547945</td>\n",
       "      <td>4206.027397</td>\n",
       "      <td>1779.041096</td>\n",
       "      <td>400</td>\n",
       "      <td>350</td>\n",
       "      <td>170</td>\n",
       "    </tr>\n",
       "    <tr>\n",
       "      <th>617</th>\n",
       "      <td>3764.841270</td>\n",
       "      <td>2768.015873</td>\n",
       "      <td>4231.746032</td>\n",
       "      <td>3608.730159</td>\n",
       "      <td>300</td>\n",
       "      <td>200</td>\n",
       "      <td>200</td>\n",
       "    </tr>\n",
       "    <tr>\n",
       "      <th>130</th>\n",
       "      <td>3814.528302</td>\n",
       "      <td>3394.528302</td>\n",
       "      <td>4132.688679</td>\n",
       "      <td>3104.292453</td>\n",
       "      <td>300</td>\n",
       "      <td>250</td>\n",
       "      <td>130</td>\n",
       "    </tr>\n",
       "    <tr>\n",
       "      <th>...</th>\n",
       "      <td>...</td>\n",
       "      <td>...</td>\n",
       "      <td>...</td>\n",
       "      <td>...</td>\n",
       "      <td>...</td>\n",
       "      <td>...</td>\n",
       "      <td>...</td>\n",
       "    </tr>\n",
       "    <tr>\n",
       "      <th>568</th>\n",
       "      <td>1230.847458</td>\n",
       "      <td>4624.237288</td>\n",
       "      <td>4086.355932</td>\n",
       "      <td>6122.796610</td>\n",
       "      <td>50</td>\n",
       "      <td>100</td>\n",
       "      <td>200</td>\n",
       "    </tr>\n",
       "    <tr>\n",
       "      <th>427</th>\n",
       "      <td>2925.477707</td>\n",
       "      <td>4296.496815</td>\n",
       "      <td>2860.254777</td>\n",
       "      <td>4245.350318</td>\n",
       "      <td>150</td>\n",
       "      <td>250</td>\n",
       "      <td>130</td>\n",
       "    </tr>\n",
       "    <tr>\n",
       "      <th>485</th>\n",
       "      <td>6266.831683</td>\n",
       "      <td>4565.544554</td>\n",
       "      <td>4475.346535</td>\n",
       "      <td>568.910891</td>\n",
       "      <td>450</td>\n",
       "      <td>450</td>\n",
       "      <td>130</td>\n",
       "    </tr>\n",
       "    <tr>\n",
       "      <th>116</th>\n",
       "      <td>1969.612403</td>\n",
       "      <td>3129.302326</td>\n",
       "      <td>4966.899225</td>\n",
       "      <td>5711.046512</td>\n",
       "      <td>200</td>\n",
       "      <td>50</td>\n",
       "      <td>130</td>\n",
       "    </tr>\n",
       "    <tr>\n",
       "      <th>148</th>\n",
       "      <td>4686.401274</td>\n",
       "      <td>2586.019108</td>\n",
       "      <td>4689.681529</td>\n",
       "      <td>3138.057325</td>\n",
       "      <td>400</td>\n",
       "      <td>250</td>\n",
       "      <td>130</td>\n",
       "    </tr>\n",
       "  </tbody>\n",
       "</table>\n",
       "<p>162 rows × 7 columns</p>\n",
       "</div>"
      ],
      "text/plain": [
       "              A0           A1           A2           A3    x    y    z\n",
       "623  3972.727273  1984.696970  4976.515152  3870.606061  350  150  200\n",
       "389  5275.652174  3712.347826  4345.391304  1755.826087  400  350   88\n",
       "551  5392.123288  3570.547945  4206.027397  1779.041096  400  350  170\n",
       "617  3764.841270  2768.015873  4231.746032  3608.730159  300  200  200\n",
       "130  3814.528302  3394.528302  4132.688679  3104.292453  300  250  130\n",
       "..           ...          ...          ...          ...  ...  ...  ...\n",
       "568  1230.847458  4624.237288  4086.355932  6122.796610   50  100  200\n",
       "427  2925.477707  4296.496815  2860.254777  4245.350318  150  250  130\n",
       "485  6266.831683  4565.544554  4475.346535   568.910891  450  450  130\n",
       "116  1969.612403  3129.302326  4966.899225  5711.046512  200   50  130\n",
       "148  4686.401274  2586.019108  4689.681529  3138.057325  400  250  130\n",
       "\n",
       "[162 rows x 7 columns]"
      ]
     },
     "execution_count": 14,
     "metadata": {},
     "output_type": "execute_result"
    }
   ],
   "source": [
    "X_test"
   ]
  },
  {
   "cell_type": "code",
   "execution_count": 15,
   "id": "f53b0245",
   "metadata": {},
   "outputs": [
    {
     "data": {
      "text/plain": [
       "327    0\n",
       "56     1\n",
       "242    1\n",
       "5      1\n",
       "449    0\n",
       "      ..\n",
       "491    0\n",
       "502    0\n",
       "358    0\n",
       "356    0\n",
       "132    1\n",
       "Name: label, Length: 486, dtype: int64"
      ]
     },
     "execution_count": 15,
     "metadata": {},
     "output_type": "execute_result"
    }
   ],
   "source": [
    "y_train"
   ]
  },
  {
   "cell_type": "code",
   "execution_count": 16,
   "id": "94d1162e",
   "metadata": {},
   "outputs": [
    {
     "data": {
      "text/plain": [
       "623    0\n",
       "389    0\n",
       "551    0\n",
       "617    0\n",
       "130    1\n",
       "      ..\n",
       "568    0\n",
       "427    0\n",
       "485    0\n",
       "116    1\n",
       "148    1\n",
       "Name: label, Length: 162, dtype: int64"
      ]
     },
     "execution_count": 16,
     "metadata": {},
     "output_type": "execute_result"
    }
   ],
   "source": [
    "y_test"
   ]
  },
  {
   "cell_type": "markdown",
   "id": "d133c852",
   "metadata": {},
   "source": [
    "## 5.特征工程(标准化)"
   ]
  },
  {
   "cell_type": "code",
   "execution_count": 17,
   "id": "5d736e13",
   "metadata": {},
   "outputs": [],
   "source": [
    "transfer = StandardScaler()                     #  实例化对象\n",
    "X_train = transfer.fit_transform(X_train)       # 标准化\n",
    "X_test = transfer.fit_transform(X_test)"
   ]
  },
  {
   "cell_type": "code",
   "execution_count": 18,
   "id": "8973a0f7",
   "metadata": {},
   "outputs": [
    {
     "data": {
      "text/plain": [
       "array([[-1.43796501,  0.86810151, -0.54520456, ..., -1.55143148,\n",
       "        -0.39370337, -1.39230246],\n",
       "       [ 0.05371734, -1.15687309,  1.03849334, ...,  0.73802915,\n",
       "        -0.77946917, -1.39230246],\n",
       "       [ 2.07895166,  0.61764551,  0.48481435, ...,  1.50118269,\n",
       "         1.53512564,  0.55690142],\n",
       "       ...,\n",
       "       [-1.28928037, -0.47243389,  0.55503119, ..., -0.40670117,\n",
       "        -1.16523498, -1.39230246],\n",
       "       [-0.83365733, -0.13412409, -0.09032518, ..., -0.40670117,\n",
       "        -0.39370337, -1.39230246],\n",
       "       [-0.4273051 , -1.03258542,  0.9046769 , ...,  0.35645237,\n",
       "        -0.77946917, -0.39392974]])"
      ]
     },
     "execution_count": 18,
     "metadata": {},
     "output_type": "execute_result"
    }
   ],
   "source": [
    "X_train"
   ]
  },
  {
   "cell_type": "code",
   "execution_count": 19,
   "id": "9073a541",
   "metadata": {},
   "outputs": [
    {
     "data": {
      "text/plain": [
       "array([[ 0.20623287, -1.62114508,  1.00301367, ...,  0.89636437,\n",
       "        -0.76011455,  1.22013336],\n",
       "       [ 1.18389765, -0.15251848,  0.47513551, ...,  1.30426052,\n",
       "         0.80852949, -1.42227529],\n",
       "       [ 1.27129309, -0.2730585 ,  0.35857018, ...,  1.30426052,\n",
       "         0.80852949,  0.51234533],\n",
       "       ...,\n",
       "       [ 1.92764066,  0.57275967,  0.58383134, ...,  1.71215667,\n",
       "         1.59285151, -0.43137205],\n",
       "       [-1.29682755, -0.64814879,  0.99497082, ..., -0.32732407,\n",
       "        -1.54443657, -0.43137205],\n",
       "       [ 0.74174642, -1.10997832,  0.76310322, ...,  1.30426052,\n",
       "         0.02420747, -0.43137205]])"
      ]
     },
     "execution_count": 19,
     "metadata": {},
     "output_type": "execute_result"
    }
   ],
   "source": [
    "X_test"
   ]
  },
  {
   "cell_type": "markdown",
   "id": "667c7e62",
   "metadata": {},
   "source": [
    "## 6.机器学习(逻辑回归)"
   ]
  },
  {
   "cell_type": "code",
   "execution_count": 20,
   "id": "0b76d57c",
   "metadata": {},
   "outputs": [
    {
     "data": {
      "text/plain": [
       "LogisticRegression()"
      ]
     },
     "execution_count": 20,
     "metadata": {},
     "output_type": "execute_result"
    }
   ],
   "source": [
    "estimator = LogisticRegression()\n",
    "estimator.fit(X_train, y_train)\n",
    "estimator"
   ]
  },
  {
   "cell_type": "markdown",
   "id": "4a3a1d75",
   "metadata": {},
   "source": [
    "## 7.模型评估"
   ]
  },
  {
   "cell_type": "code",
   "execution_count": 21,
   "id": "c0d6f20e",
   "metadata": {},
   "outputs": [
    {
     "data": {
      "text/plain": [
       "array([0, 0, 0, 0, 0, 1, 0, 0, 0, 0, 0, 1, 0, 0, 1, 1, 0, 1, 1, 1, 0, 0,\n",
       "       1, 1, 0, 1, 1, 1, 1, 0, 1, 0, 0, 1, 1, 1, 0, 1, 1, 0, 1, 0, 0, 1,\n",
       "       0, 1, 1, 1, 0, 0, 0, 0, 1, 0, 1, 0, 1, 0, 1, 1, 0, 0, 0, 0, 0, 1,\n",
       "       0, 1, 0, 1, 0, 1, 1, 0, 0, 1, 1, 0, 1, 0, 1, 1, 1, 0, 0, 1, 0, 1,\n",
       "       0, 1, 0, 1, 0, 0, 0, 1, 1, 0, 1, 1, 0, 0, 1, 0, 1, 0, 1, 0, 1, 0,\n",
       "       1, 1, 1, 1, 0, 1, 0, 0, 1, 1, 1, 0, 0, 1, 1, 1, 1, 1, 1, 1, 0, 0,\n",
       "       0, 1, 1, 1, 0, 0, 1, 0, 0, 0, 1, 0, 0, 0, 0, 1, 0, 1, 1, 0, 0, 0,\n",
       "       1, 1, 1, 1, 0, 1, 1, 0], dtype=int64)"
      ]
     },
     "execution_count": 21,
     "metadata": {},
     "output_type": "execute_result"
    }
   ],
   "source": [
    "y_predict = estimator.predict(X_test)\n",
    "y_predict"
   ]
  },
  {
   "cell_type": "code",
   "execution_count": 22,
   "id": "2fe7dea5",
   "metadata": {},
   "outputs": [
    {
     "data": {
      "text/plain": [
       "0.5864197530864198"
      ]
     },
     "execution_count": 22,
     "metadata": {},
     "output_type": "execute_result"
    }
   ],
   "source": [
    "estimator.score(X_test, y_test)"
   ]
  },
  {
   "cell_type": "code",
   "execution_count": 23,
   "id": "113453ba",
   "metadata": {},
   "outputs": [
    {
     "data": {
      "text/plain": [
       "array([[ 0.20623287, -1.62114508,  1.00301367, ...,  0.89636437,\n",
       "        -0.76011455,  1.22013336],\n",
       "       [ 1.18389765, -0.15251848,  0.47513551, ...,  1.30426052,\n",
       "         0.80852949, -1.42227529],\n",
       "       [ 1.27129309, -0.2730585 ,  0.35857018, ...,  1.30426052,\n",
       "         0.80852949,  0.51234533],\n",
       "       ...,\n",
       "       [ 1.92764066,  0.57275967,  0.58383134, ...,  1.71215667,\n",
       "         1.59285151, -0.43137205],\n",
       "       [-1.29682755, -0.64814879,  0.99497082, ..., -0.32732407,\n",
       "        -1.54443657, -0.43137205],\n",
       "       [ 0.74174642, -1.10997832,  0.76310322, ...,  1.30426052,\n",
       "         0.02420747, -0.43137205]])"
      ]
     },
     "execution_count": 23,
     "metadata": {},
     "output_type": "execute_result"
    }
   ],
   "source": [
    "X_test"
   ]
  },
  {
   "cell_type": "code",
   "execution_count": 24,
   "id": "da4fb5b5",
   "metadata": {},
   "outputs": [
    {
     "data": {
      "text/plain": [
       "623    0\n",
       "389    0\n",
       "551    0\n",
       "617    0\n",
       "130    1\n",
       "      ..\n",
       "568    0\n",
       "427    0\n",
       "485    0\n",
       "116    1\n",
       "148    1\n",
       "Name: label, Length: 162, dtype: int64"
      ]
     },
     "execution_count": 24,
     "metadata": {},
     "output_type": "execute_result"
    }
   ],
   "source": [
    "y_test"
   ]
  },
  {
   "cell_type": "code",
   "execution_count": 25,
   "id": "7cf85d90",
   "metadata": {},
   "outputs": [
    {
     "name": "stdout",
     "output_type": "stream",
     "text": [
      "0.6049382716049383\n",
      "0.5833333333333334\n",
      "0.5939393939393939\n"
     ]
    }
   ],
   "source": [
    "from sklearn.metrics import precision_score, recall_score, f1_score\n",
    "\n",
    "precision = precision_score(np.array(y_test), np.array(y_predict))\n",
    "recall = recall_score(y_test, y_predict)\n",
    "f1 = f1_score(y_test, y_predict)\n",
    "\n",
    "print(precision)\n",
    "print(recall)\n",
    "print(f1)"
   ]
  }
 ],
 "metadata": {
  "kernelspec": {
   "display_name": "Python [conda env:dataAna]",
   "language": "python",
   "name": "conda-env-dataAna-py"
  },
  "language_info": {
   "codemirror_mode": {
    "name": "ipython",
    "version": 3
   },
   "file_extension": ".py",
   "mimetype": "text/x-python",
   "name": "python",
   "nbconvert_exporter": "python",
   "pygments_lexer": "ipython3",
   "version": "3.8.10"
  }
 },
 "nbformat": 4,
 "nbformat_minor": 5
}

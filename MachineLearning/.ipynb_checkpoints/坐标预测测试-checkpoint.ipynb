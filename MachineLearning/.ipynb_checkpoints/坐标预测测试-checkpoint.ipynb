{
 "cells": [
  {
   "cell_type": "markdown",
   "id": "4a807d98",
   "metadata": {},
   "source": [
    "## 1.获取数据"
   ]
  },
  {
   "cell_type": "code",
   "execution_count": 136,
   "id": "9d1d41bf",
   "metadata": {},
   "outputs": [
    {
     "data": {
      "text/html": [
       "<div>\n",
       "<style scoped>\n",
       "    .dataframe tbody tr th:only-of-type {\n",
       "        vertical-align: middle;\n",
       "    }\n",
       "\n",
       "    .dataframe tbody tr th {\n",
       "        vertical-align: top;\n",
       "    }\n",
       "\n",
       "    .dataframe thead th {\n",
       "        text-align: right;\n",
       "    }\n",
       "</style>\n",
       "<table border=\"1\" class=\"dataframe\">\n",
       "  <thead>\n",
       "    <tr style=\"text-align: right;\">\n",
       "      <th></th>\n",
       "      <th>Unnamed: 0</th>\n",
       "      <th>A0</th>\n",
       "      <th>A1</th>\n",
       "      <th>A2</th>\n",
       "      <th>A3</th>\n",
       "      <th>x</th>\n",
       "      <th>y</th>\n",
       "      <th>z</th>\n",
       "      <th>label</th>\n",
       "    </tr>\n",
       "  </thead>\n",
       "  <tbody>\n",
       "    <tr>\n",
       "      <th>0</th>\n",
       "      <td>0</td>\n",
       "      <td>1016.931217</td>\n",
       "      <td>4782.857143</td>\n",
       "      <td>4552.962963</td>\n",
       "      <td>6298.994709</td>\n",
       "      <td>50</td>\n",
       "      <td>50</td>\n",
       "      <td>88</td>\n",
       "      <td>1</td>\n",
       "    </tr>\n",
       "    <tr>\n",
       "      <th>1</th>\n",
       "      <td>1</td>\n",
       "      <td>1338.424658</td>\n",
       "      <td>4920.136986</td>\n",
       "      <td>4109.178082</td>\n",
       "      <td>5943.561644</td>\n",
       "      <td>50</td>\n",
       "      <td>100</td>\n",
       "      <td>88</td>\n",
       "      <td>1</td>\n",
       "    </tr>\n",
       "    <tr>\n",
       "      <th>2</th>\n",
       "      <td>2</td>\n",
       "      <td>1783.790850</td>\n",
       "      <td>5033.464052</td>\n",
       "      <td>3605.882353</td>\n",
       "      <td>5619.150327</td>\n",
       "      <td>50</td>\n",
       "      <td>150</td>\n",
       "      <td>88</td>\n",
       "      <td>1</td>\n",
       "    </tr>\n",
       "    <tr>\n",
       "      <th>3</th>\n",
       "      <td>3</td>\n",
       "      <td>2253.617021</td>\n",
       "      <td>5218.563830</td>\n",
       "      <td>3085.159574</td>\n",
       "      <td>5322.819149</td>\n",
       "      <td>50</td>\n",
       "      <td>200</td>\n",
       "      <td>88</td>\n",
       "      <td>1</td>\n",
       "    </tr>\n",
       "    <tr>\n",
       "      <th>4</th>\n",
       "      <td>4</td>\n",
       "      <td>2727.142857</td>\n",
       "      <td>5370.285714</td>\n",
       "      <td>2600.142857</td>\n",
       "      <td>5033.238095</td>\n",
       "      <td>50</td>\n",
       "      <td>250</td>\n",
       "      <td>88</td>\n",
       "      <td>1</td>\n",
       "    </tr>\n",
       "  </tbody>\n",
       "</table>\n",
       "</div>"
      ],
      "text/plain": [
       "   Unnamed: 0           A0           A1           A2           A3   x    y  \\\n",
       "0           0  1016.931217  4782.857143  4552.962963  6298.994709  50   50   \n",
       "1           1  1338.424658  4920.136986  4109.178082  5943.561644  50  100   \n",
       "2           2  1783.790850  5033.464052  3605.882353  5619.150327  50  150   \n",
       "3           3  2253.617021  5218.563830  3085.159574  5322.819149  50  200   \n",
       "4           4  2727.142857  5370.285714  2600.142857  5033.238095  50  250   \n",
       "\n",
       "    z  label  \n",
       "0  88      1  \n",
       "1  88      1  \n",
       "2  88      1  \n",
       "3  88      1  \n",
       "4  88      1  "
      ]
     },
     "execution_count": 136,
     "metadata": {},
     "output_type": "execute_result"
    }
   ],
   "source": [
    "import pandas as pd\n",
    "import numpy as np\n",
    "from sklearn.model_selection import train_test_split\n",
    "from sklearn.preprocessing import StandardScaler\n",
    "from sklearn.linear_model import LogisticRegression\n",
    "\n",
    "data = pd.read_csv(r'data\\distance.csv')\n",
    "data.head()"
   ]
  },
  {
   "cell_type": "markdown",
   "id": "d68d67f0",
   "metadata": {},
   "source": [
    "## 2. 基本数据处理"
   ]
  },
  {
   "cell_type": "code",
   "execution_count": 137,
   "id": "ec7cdcaa",
   "metadata": {},
   "outputs": [
    {
     "data": {
      "text/html": [
       "<div>\n",
       "<style scoped>\n",
       "    .dataframe tbody tr th:only-of-type {\n",
       "        vertical-align: middle;\n",
       "    }\n",
       "\n",
       "    .dataframe tbody tr th {\n",
       "        vertical-align: top;\n",
       "    }\n",
       "\n",
       "    .dataframe thead th {\n",
       "        text-align: right;\n",
       "    }\n",
       "</style>\n",
       "<table border=\"1\" class=\"dataframe\">\n",
       "  <thead>\n",
       "    <tr style=\"text-align: right;\">\n",
       "      <th></th>\n",
       "      <th>Unnamed: 0</th>\n",
       "      <th>A0</th>\n",
       "      <th>A1</th>\n",
       "      <th>A2</th>\n",
       "      <th>A3</th>\n",
       "      <th>x</th>\n",
       "      <th>y</th>\n",
       "      <th>z</th>\n",
       "      <th>label</th>\n",
       "    </tr>\n",
       "  </thead>\n",
       "  <tbody>\n",
       "    <tr>\n",
       "      <th>0</th>\n",
       "      <td>0</td>\n",
       "      <td>1016.931217</td>\n",
       "      <td>4782.857143</td>\n",
       "      <td>4552.962963</td>\n",
       "      <td>6298.994709</td>\n",
       "      <td>50</td>\n",
       "      <td>50</td>\n",
       "      <td>88</td>\n",
       "      <td>1</td>\n",
       "    </tr>\n",
       "    <tr>\n",
       "      <th>1</th>\n",
       "      <td>1</td>\n",
       "      <td>1338.424658</td>\n",
       "      <td>4920.136986</td>\n",
       "      <td>4109.178082</td>\n",
       "      <td>5943.561644</td>\n",
       "      <td>50</td>\n",
       "      <td>100</td>\n",
       "      <td>88</td>\n",
       "      <td>1</td>\n",
       "    </tr>\n",
       "    <tr>\n",
       "      <th>2</th>\n",
       "      <td>2</td>\n",
       "      <td>1783.790850</td>\n",
       "      <td>5033.464052</td>\n",
       "      <td>3605.882353</td>\n",
       "      <td>5619.150327</td>\n",
       "      <td>50</td>\n",
       "      <td>150</td>\n",
       "      <td>88</td>\n",
       "      <td>1</td>\n",
       "    </tr>\n",
       "    <tr>\n",
       "      <th>3</th>\n",
       "      <td>3</td>\n",
       "      <td>2253.617021</td>\n",
       "      <td>5218.563830</td>\n",
       "      <td>3085.159574</td>\n",
       "      <td>5322.819149</td>\n",
       "      <td>50</td>\n",
       "      <td>200</td>\n",
       "      <td>88</td>\n",
       "      <td>1</td>\n",
       "    </tr>\n",
       "    <tr>\n",
       "      <th>4</th>\n",
       "      <td>4</td>\n",
       "      <td>2727.142857</td>\n",
       "      <td>5370.285714</td>\n",
       "      <td>2600.142857</td>\n",
       "      <td>5033.238095</td>\n",
       "      <td>50</td>\n",
       "      <td>250</td>\n",
       "      <td>88</td>\n",
       "      <td>1</td>\n",
       "    </tr>\n",
       "  </tbody>\n",
       "</table>\n",
       "</div>"
      ],
      "text/plain": [
       "   Unnamed: 0           A0           A1           A2           A3   x    y  \\\n",
       "0           0  1016.931217  4782.857143  4552.962963  6298.994709  50   50   \n",
       "1           1  1338.424658  4920.136986  4109.178082  5943.561644  50  100   \n",
       "2           2  1783.790850  5033.464052  3605.882353  5619.150327  50  150   \n",
       "3           3  2253.617021  5218.563830  3085.159574  5322.819149  50  200   \n",
       "4           4  2727.142857  5370.285714  2600.142857  5033.238095  50  250   \n",
       "\n",
       "    z  label  \n",
       "0  88      1  \n",
       "1  88      1  \n",
       "2  88      1  \n",
       "3  88      1  \n",
       "4  88      1  "
      ]
     },
     "execution_count": 137,
     "metadata": {},
     "output_type": "execute_result"
    }
   ],
   "source": [
    "# 2.1 缺失值处理\n",
    "data = data.replace(to_replace=\"?\", value=np.NaN) # 把data中的 to_replece 值 替换为 value.\n",
    "data = data.dropna()        # 删除有空值的行，默认 axis=0      \n",
    "data.head()"
   ]
  },
  {
   "cell_type": "markdown",
   "id": "fda4db8d",
   "metadata": {},
   "source": [
    "## 3.确定特征值,目标值"
   ]
  },
  {
   "cell_type": "code",
   "execution_count": 138,
   "id": "0d682055",
   "metadata": {},
   "outputs": [
    {
     "data": {
      "text/plain": [
       "Index(['Unnamed: 0', 'A0', 'A1', 'A2', 'A3', 'x', 'y', 'z', 'label'], dtype='object')"
      ]
     },
     "execution_count": 138,
     "metadata": {},
     "output_type": "execute_result"
    }
   ],
   "source": [
    "data.columns    # 所有的列名"
   ]
  },
  {
   "cell_type": "code",
   "execution_count": 139,
   "id": "7b19d7c1",
   "metadata": {},
   "outputs": [
    {
     "data": {
      "text/plain": [
       "0    1\n",
       "1    1\n",
       "2    1\n",
       "3    1\n",
       "4    1\n",
       "Name: label, dtype: int64"
      ]
     },
     "execution_count": 139,
     "metadata": {},
     "output_type": "execute_result"
    }
   ],
   "source": [
    "x = data.iloc[:, 0:8]\n",
    "x.head()\n",
    "y = data[\"label\"]\n",
    "y.head()"
   ]
  },
  {
   "cell_type": "code",
   "execution_count": 140,
   "id": "980935cc",
   "metadata": {},
   "outputs": [
    {
     "data": {
      "text/plain": [
       "486.0"
      ]
     },
     "execution_count": 140,
     "metadata": {},
     "output_type": "execute_result"
    }
   ],
   "source": [
    "x.shape[0]*0.75"
   ]
  },
  {
   "cell_type": "markdown",
   "id": "98ffa755",
   "metadata": {},
   "source": [
    "## 4.分割数据"
   ]
  },
  {
   "cell_type": "code",
   "execution_count": 141,
   "id": "b5bef7f3",
   "metadata": {},
   "outputs": [
    {
     "data": {
      "text/html": [
       "<div>\n",
       "<style scoped>\n",
       "    .dataframe tbody tr th:only-of-type {\n",
       "        vertical-align: middle;\n",
       "    }\n",
       "\n",
       "    .dataframe tbody tr th {\n",
       "        vertical-align: top;\n",
       "    }\n",
       "\n",
       "    .dataframe thead th {\n",
       "        text-align: right;\n",
       "    }\n",
       "</style>\n",
       "<table border=\"1\" class=\"dataframe\">\n",
       "  <thead>\n",
       "    <tr style=\"text-align: right;\">\n",
       "      <th></th>\n",
       "      <th>Unnamed: 0</th>\n",
       "      <th>A0</th>\n",
       "      <th>A1</th>\n",
       "      <th>A2</th>\n",
       "      <th>A3</th>\n",
       "      <th>x</th>\n",
       "      <th>y</th>\n",
       "      <th>z</th>\n",
       "    </tr>\n",
       "  </thead>\n",
       "  <tbody>\n",
       "    <tr>\n",
       "      <th>327</th>\n",
       "      <td>327</td>\n",
       "      <td>2008.590604</td>\n",
       "      <td>4974.228188</td>\n",
       "      <td>3085.503356</td>\n",
       "      <td>5323.355705</td>\n",
       "      <td>50</td>\n",
       "      <td>200</td>\n",
       "      <td>88</td>\n",
       "    </tr>\n",
       "    <tr>\n",
       "      <th>56</th>\n",
       "      <td>56</td>\n",
       "      <td>3933.161290</td>\n",
       "      <td>2261.741935</td>\n",
       "      <td>5203.161290</td>\n",
       "      <td>3848.516129</td>\n",
       "      <td>350</td>\n",
       "      <td>150</td>\n",
       "      <td>88</td>\n",
       "    </tr>\n",
       "    <tr>\n",
       "      <th>242</th>\n",
       "      <td>242</td>\n",
       "      <td>6546.121495</td>\n",
       "      <td>4638.738318</td>\n",
       "      <td>4462.803738</td>\n",
       "      <td>869.252336</td>\n",
       "      <td>450</td>\n",
       "      <td>450</td>\n",
       "      <td>170</td>\n",
       "    </tr>\n",
       "    <tr>\n",
       "      <th>5</th>\n",
       "      <td>5</td>\n",
       "      <td>3212.800000</td>\n",
       "      <td>5665.200000</td>\n",
       "      <td>2149.911111</td>\n",
       "      <td>4832.577778</td>\n",
       "      <td>50</td>\n",
       "      <td>300</td>\n",
       "      <td>88</td>\n",
       "    </tr>\n",
       "    <tr>\n",
       "      <th>449</th>\n",
       "      <td>449</td>\n",
       "      <td>5138.976378</td>\n",
       "      <td>5117.716535</td>\n",
       "      <td>2554.251969</td>\n",
       "      <td>2446.771654</td>\n",
       "      <td>250</td>\n",
       "      <td>450</td>\n",
       "      <td>130</td>\n",
       "    </tr>\n",
       "    <tr>\n",
       "      <th>...</th>\n",
       "      <td>...</td>\n",
       "      <td>...</td>\n",
       "      <td>...</td>\n",
       "      <td>...</td>\n",
       "      <td>...</td>\n",
       "      <td>...</td>\n",
       "      <td>...</td>\n",
       "      <td>...</td>\n",
       "    </tr>\n",
       "    <tr>\n",
       "      <th>491</th>\n",
       "      <td>491</td>\n",
       "      <td>2979.007092</td>\n",
       "      <td>5374.609929</td>\n",
       "      <td>1948.226950</td>\n",
       "      <td>4928.297872</td>\n",
       "      <td>50</td>\n",
       "      <td>300</td>\n",
       "      <td>170</td>\n",
       "    </tr>\n",
       "    <tr>\n",
       "      <th>502</th>\n",
       "      <td>502</td>\n",
       "      <td>1375.707317</td>\n",
       "      <td>4091.414634</td>\n",
       "      <td>4167.268293</td>\n",
       "      <td>5628.926829</td>\n",
       "      <td>100</td>\n",
       "      <td>100</td>\n",
       "      <td>170</td>\n",
       "    </tr>\n",
       "    <tr>\n",
       "      <th>358</th>\n",
       "      <td>358</td>\n",
       "      <td>2200.423729</td>\n",
       "      <td>3178.559322</td>\n",
       "      <td>4556.694915</td>\n",
       "      <td>4955.677966</td>\n",
       "      <td>200</td>\n",
       "      <td>100</td>\n",
       "      <td>88</td>\n",
       "    </tr>\n",
       "    <tr>\n",
       "      <th>356</th>\n",
       "      <td>356</td>\n",
       "      <td>2788.269231</td>\n",
       "      <td>3631.730769</td>\n",
       "      <td>3693.750000</td>\n",
       "      <td>4229.326923</td>\n",
       "      <td>200</td>\n",
       "      <td>200</td>\n",
       "      <td>88</td>\n",
       "    </tr>\n",
       "    <tr>\n",
       "      <th>132</th>\n",
       "      <td>132</td>\n",
       "      <td>3312.545455</td>\n",
       "      <td>2428.227273</td>\n",
       "      <td>5024.227273</td>\n",
       "      <td>4202.136364</td>\n",
       "      <td>300</td>\n",
       "      <td>150</td>\n",
       "      <td>130</td>\n",
       "    </tr>\n",
       "  </tbody>\n",
       "</table>\n",
       "<p>486 rows × 8 columns</p>\n",
       "</div>"
      ],
      "text/plain": [
       "     Unnamed: 0           A0           A1           A2           A3    x    y  \\\n",
       "327         327  2008.590604  4974.228188  3085.503356  5323.355705   50  200   \n",
       "56           56  3933.161290  2261.741935  5203.161290  3848.516129  350  150   \n",
       "242         242  6546.121495  4638.738318  4462.803738   869.252336  450  450   \n",
       "5             5  3212.800000  5665.200000  2149.911111  4832.577778   50  300   \n",
       "449         449  5138.976378  5117.716535  2554.251969  2446.771654  250  450   \n",
       "..          ...          ...          ...          ...          ...  ...  ...   \n",
       "491         491  2979.007092  5374.609929  1948.226950  4928.297872   50  300   \n",
       "502         502  1375.707317  4091.414634  4167.268293  5628.926829  100  100   \n",
       "358         358  2200.423729  3178.559322  4556.694915  4955.677966  200  100   \n",
       "356         356  2788.269231  3631.730769  3693.750000  4229.326923  200  200   \n",
       "132         132  3312.545455  2428.227273  5024.227273  4202.136364  300  150   \n",
       "\n",
       "       z  \n",
       "327   88  \n",
       "56    88  \n",
       "242  170  \n",
       "5     88  \n",
       "449  130  \n",
       "..   ...  \n",
       "491  170  \n",
       "502  170  \n",
       "358   88  \n",
       "356   88  \n",
       "132  130  \n",
       "\n",
       "[486 rows x 8 columns]"
      ]
     },
     "execution_count": 141,
     "metadata": {},
     "output_type": "execute_result"
    }
   ],
   "source": [
    "X_train, X_test, y_train, y_test = train_test_split(x, y, random_state=22) # 训练集和测试集按照 0.75 : 0.25 (随机)\n",
    "X_train"
   ]
  },
  {
   "cell_type": "code",
   "execution_count": 142,
   "id": "8dd0ed0c",
   "metadata": {},
   "outputs": [
    {
     "data": {
      "text/html": [
       "<div>\n",
       "<style scoped>\n",
       "    .dataframe tbody tr th:only-of-type {\n",
       "        vertical-align: middle;\n",
       "    }\n",
       "\n",
       "    .dataframe tbody tr th {\n",
       "        vertical-align: top;\n",
       "    }\n",
       "\n",
       "    .dataframe thead th {\n",
       "        text-align: right;\n",
       "    }\n",
       "</style>\n",
       "<table border=\"1\" class=\"dataframe\">\n",
       "  <thead>\n",
       "    <tr style=\"text-align: right;\">\n",
       "      <th></th>\n",
       "      <th>Unnamed: 0</th>\n",
       "      <th>A0</th>\n",
       "      <th>A1</th>\n",
       "      <th>A2</th>\n",
       "      <th>A3</th>\n",
       "      <th>x</th>\n",
       "      <th>y</th>\n",
       "      <th>z</th>\n",
       "    </tr>\n",
       "  </thead>\n",
       "  <tbody>\n",
       "    <tr>\n",
       "      <th>623</th>\n",
       "      <td>623</td>\n",
       "      <td>3972.727273</td>\n",
       "      <td>1984.696970</td>\n",
       "      <td>4976.515152</td>\n",
       "      <td>3870.606061</td>\n",
       "      <td>350</td>\n",
       "      <td>150</td>\n",
       "      <td>200</td>\n",
       "    </tr>\n",
       "    <tr>\n",
       "      <th>389</th>\n",
       "      <td>389</td>\n",
       "      <td>5275.652174</td>\n",
       "      <td>3712.347826</td>\n",
       "      <td>4345.391304</td>\n",
       "      <td>1755.826087</td>\n",
       "      <td>400</td>\n",
       "      <td>350</td>\n",
       "      <td>88</td>\n",
       "    </tr>\n",
       "    <tr>\n",
       "      <th>551</th>\n",
       "      <td>551</td>\n",
       "      <td>5392.123288</td>\n",
       "      <td>3570.547945</td>\n",
       "      <td>4206.027397</td>\n",
       "      <td>1779.041096</td>\n",
       "      <td>400</td>\n",
       "      <td>350</td>\n",
       "      <td>170</td>\n",
       "    </tr>\n",
       "    <tr>\n",
       "      <th>617</th>\n",
       "      <td>617</td>\n",
       "      <td>3764.841270</td>\n",
       "      <td>2768.015873</td>\n",
       "      <td>4231.746032</td>\n",
       "      <td>3608.730159</td>\n",
       "      <td>300</td>\n",
       "      <td>200</td>\n",
       "      <td>200</td>\n",
       "    </tr>\n",
       "    <tr>\n",
       "      <th>130</th>\n",
       "      <td>130</td>\n",
       "      <td>3814.528302</td>\n",
       "      <td>3394.528302</td>\n",
       "      <td>4132.688679</td>\n",
       "      <td>3104.292453</td>\n",
       "      <td>300</td>\n",
       "      <td>250</td>\n",
       "      <td>130</td>\n",
       "    </tr>\n",
       "    <tr>\n",
       "      <th>...</th>\n",
       "      <td>...</td>\n",
       "      <td>...</td>\n",
       "      <td>...</td>\n",
       "      <td>...</td>\n",
       "      <td>...</td>\n",
       "      <td>...</td>\n",
       "      <td>...</td>\n",
       "      <td>...</td>\n",
       "    </tr>\n",
       "    <tr>\n",
       "      <th>568</th>\n",
       "      <td>568</td>\n",
       "      <td>1230.847458</td>\n",
       "      <td>4624.237288</td>\n",
       "      <td>4086.355932</td>\n",
       "      <td>6122.796610</td>\n",
       "      <td>50</td>\n",
       "      <td>100</td>\n",
       "      <td>200</td>\n",
       "    </tr>\n",
       "    <tr>\n",
       "      <th>427</th>\n",
       "      <td>427</td>\n",
       "      <td>2925.477707</td>\n",
       "      <td>4296.496815</td>\n",
       "      <td>2860.254777</td>\n",
       "      <td>4245.350318</td>\n",
       "      <td>150</td>\n",
       "      <td>250</td>\n",
       "      <td>130</td>\n",
       "    </tr>\n",
       "    <tr>\n",
       "      <th>485</th>\n",
       "      <td>485</td>\n",
       "      <td>6266.831683</td>\n",
       "      <td>4565.544554</td>\n",
       "      <td>4475.346535</td>\n",
       "      <td>568.910891</td>\n",
       "      <td>450</td>\n",
       "      <td>450</td>\n",
       "      <td>130</td>\n",
       "    </tr>\n",
       "    <tr>\n",
       "      <th>116</th>\n",
       "      <td>116</td>\n",
       "      <td>1969.612403</td>\n",
       "      <td>3129.302326</td>\n",
       "      <td>4966.899225</td>\n",
       "      <td>5711.046512</td>\n",
       "      <td>200</td>\n",
       "      <td>50</td>\n",
       "      <td>130</td>\n",
       "    </tr>\n",
       "    <tr>\n",
       "      <th>148</th>\n",
       "      <td>148</td>\n",
       "      <td>4686.401274</td>\n",
       "      <td>2586.019108</td>\n",
       "      <td>4689.681529</td>\n",
       "      <td>3138.057325</td>\n",
       "      <td>400</td>\n",
       "      <td>250</td>\n",
       "      <td>130</td>\n",
       "    </tr>\n",
       "  </tbody>\n",
       "</table>\n",
       "<p>162 rows × 8 columns</p>\n",
       "</div>"
      ],
      "text/plain": [
       "     Unnamed: 0           A0           A1           A2           A3    x    y  \\\n",
       "623         623  3972.727273  1984.696970  4976.515152  3870.606061  350  150   \n",
       "389         389  5275.652174  3712.347826  4345.391304  1755.826087  400  350   \n",
       "551         551  5392.123288  3570.547945  4206.027397  1779.041096  400  350   \n",
       "617         617  3764.841270  2768.015873  4231.746032  3608.730159  300  200   \n",
       "130         130  3814.528302  3394.528302  4132.688679  3104.292453  300  250   \n",
       "..          ...          ...          ...          ...          ...  ...  ...   \n",
       "568         568  1230.847458  4624.237288  4086.355932  6122.796610   50  100   \n",
       "427         427  2925.477707  4296.496815  2860.254777  4245.350318  150  250   \n",
       "485         485  6266.831683  4565.544554  4475.346535   568.910891  450  450   \n",
       "116         116  1969.612403  3129.302326  4966.899225  5711.046512  200   50   \n",
       "148         148  4686.401274  2586.019108  4689.681529  3138.057325  400  250   \n",
       "\n",
       "       z  \n",
       "623  200  \n",
       "389   88  \n",
       "551  170  \n",
       "617  200  \n",
       "130  130  \n",
       "..   ...  \n",
       "568  200  \n",
       "427  130  \n",
       "485  130  \n",
       "116  130  \n",
       "148  130  \n",
       "\n",
       "[162 rows x 8 columns]"
      ]
     },
     "execution_count": 142,
     "metadata": {},
     "output_type": "execute_result"
    }
   ],
   "source": [
    "X_test"
   ]
  },
  {
   "cell_type": "code",
   "execution_count": 143,
   "id": "f53b0245",
   "metadata": {},
   "outputs": [
    {
     "data": {
      "text/plain": [
       "327    0\n",
       "56     1\n",
       "242    1\n",
       "5      1\n",
       "449    0\n",
       "      ..\n",
       "491    0\n",
       "502    0\n",
       "358    0\n",
       "356    0\n",
       "132    1\n",
       "Name: label, Length: 486, dtype: int64"
      ]
     },
     "execution_count": 143,
     "metadata": {},
     "output_type": "execute_result"
    }
   ],
   "source": [
    "y_train"
   ]
  },
  {
   "cell_type": "code",
   "execution_count": 144,
   "id": "94d1162e",
   "metadata": {},
   "outputs": [
    {
     "data": {
      "text/plain": [
       "623    0\n",
       "389    0\n",
       "551    0\n",
       "617    0\n",
       "130    1\n",
       "      ..\n",
       "568    0\n",
       "427    0\n",
       "485    0\n",
       "116    1\n",
       "148    1\n",
       "Name: label, Length: 162, dtype: int64"
      ]
     },
     "execution_count": 144,
     "metadata": {},
     "output_type": "execute_result"
    }
   ],
   "source": [
    "y_test"
   ]
  },
  {
   "cell_type": "markdown",
   "id": "5714d3f0",
   "metadata": {},
   "source": [
    "## 5.特征工程(标准化)"
   ]
  },
  {
   "cell_type": "code",
   "execution_count": 145,
   "id": "547bfce2",
   "metadata": {},
   "outputs": [],
   "source": [
    "transfer = StandardScaler()                     #  实例化对象\n",
    "X_train = transfer.fit_transform(X_train)       # 标准化\n",
    "X_test = transfer.fit_transform(X_test)"
   ]
  },
  {
   "cell_type": "code",
   "execution_count": 146,
   "id": "cd1694a2",
   "metadata": {},
   "outputs": [
    {
     "data": {
      "text/plain": [
       "array([[ 0.01028589, -1.43796501,  0.86810151, ..., -1.55143148,\n",
       "        -0.39370337, -1.39230246],\n",
       "       [-1.43243325,  0.05371734, -1.15687309, ...,  0.73802915,\n",
       "        -0.77946917, -1.39230246],\n",
       "       [-0.44222749,  2.07895166,  0.61764551, ...,  1.50118269,\n",
       "         1.53512564,  0.55690142],\n",
       "       ...,\n",
       "       [ 0.17532018, -1.28928037, -0.47243389, ..., -0.40670117,\n",
       "        -1.16523498, -1.39230246],\n",
       "       [ 0.16467281, -0.83365733, -0.13412409, ..., -0.40670117,\n",
       "        -0.39370337, -1.39230246],\n",
       "       [-1.02783305, -0.4273051 , -1.03258542, ...,  0.35645237,\n",
       "        -0.77946917, -0.39392974]])"
      ]
     },
     "execution_count": 146,
     "metadata": {},
     "output_type": "execute_result"
    }
   ],
   "source": [
    "X_train"
   ]
  },
  {
   "cell_type": "code",
   "execution_count": 147,
   "id": "2aae224f",
   "metadata": {},
   "outputs": [
    {
     "data": {
      "text/plain": [
       "array([[ 1.64767306,  0.20623287, -1.62114508, ...,  0.89636437,\n",
       "        -0.76011455,  1.22013336],\n",
       "       [ 0.38024767,  1.18389765, -0.15251848, ...,  1.30426052,\n",
       "         0.80852949, -1.42227529],\n",
       "       [ 1.25769602,  1.27129309, -0.2730585 , ...,  1.30426052,\n",
       "         0.80852949,  0.51234533],\n",
       "       ...,\n",
       "       [ 0.90021706,  1.92764066,  0.57275967, ...,  1.71215667,\n",
       "         1.59285151, -0.43137205],\n",
       "       [-1.09841527, -1.29682755, -0.64814879, ..., -0.32732407,\n",
       "        -1.54443657, -0.43137205],\n",
       "       [-0.92509214,  0.74174642, -1.10997832, ...,  1.30426052,\n",
       "         0.02420747, -0.43137205]])"
      ]
     },
     "execution_count": 147,
     "metadata": {},
     "output_type": "execute_result"
    }
   ],
   "source": [
    "X_test"
   ]
  },
  {
   "cell_type": "markdown",
   "id": "91fa0e49",
   "metadata": {},
   "source": [
    "## 6.机器学习(逻辑回归)"
   ]
  },
  {
   "cell_type": "code",
   "execution_count": 148,
   "id": "a1191b60",
   "metadata": {},
   "outputs": [
    {
     "data": {
      "text/plain": [
       "LogisticRegression()"
      ]
     },
     "execution_count": 148,
     "metadata": {},
     "output_type": "execute_result"
    }
   ],
   "source": [
    "estimator = LogisticRegression()\n",
    "estimator.fit(x_train, y_train)\n",
    "estimator"
   ]
  },
  {
   "cell_type": "markdown",
   "id": "9c009e5e",
   "metadata": {},
   "source": [
    "## 7.模型评估"
   ]
  },
  {
   "cell_type": "code",
   "execution_count": 149,
   "id": "00f0c92c",
   "metadata": {},
   "outputs": [
    {
     "data": {
      "text/plain": [
       "array([0, 0, 0, 0, 1, 1, 0, 1, 0, 1, 0, 1, 1, 0, 0, 1, 1, 1, 0, 0, 0, 1,\n",
       "       1, 1, 0, 0, 1, 0, 1, 1, 1, 0, 0, 0, 0, 0, 0, 1, 1, 0, 1, 1, 0, 1,\n",
       "       1, 1, 0, 1, 0, 1, 1, 0, 1, 1, 1, 1, 1, 0, 0, 1, 1, 1, 0, 0, 0, 0,\n",
       "       0, 0, 1, 1, 1, 1, 1, 0, 1, 0, 1, 0, 1, 1, 1, 1, 1, 0, 1, 0, 1, 1,\n",
       "       0, 0, 0, 1, 0, 0, 0, 0, 1, 1, 0, 1, 1, 1, 1, 0, 0, 0, 1, 1, 0, 0,\n",
       "       1, 0, 1, 1, 0, 0, 0, 1, 1, 1, 0, 1, 0, 1, 1, 0, 0, 0, 1, 1, 1, 1,\n",
       "       1, 0, 1, 0, 0, 0, 1, 1, 0, 1, 0, 1, 0, 0, 0, 1, 0, 0, 1, 0, 1, 0,\n",
       "       0, 1, 1, 0, 0, 0, 1, 1], dtype=int64)"
      ]
     },
     "execution_count": 149,
     "metadata": {},
     "output_type": "execute_result"
    }
   ],
   "source": [
    "y_predict = estimator.predict(X_test)\n",
    "y_predict"
   ]
  },
  {
   "cell_type": "code",
   "execution_count": 154,
   "id": "23582b74",
   "metadata": {},
   "outputs": [
    {
     "data": {
      "text/plain": [
       "1.0"
      ]
     },
     "execution_count": 154,
     "metadata": {},
     "output_type": "execute_result"
    }
   ],
   "source": [
    "estimator.score(X_test, y_test)"
   ]
  },
  {
   "cell_type": "code",
   "execution_count": 151,
   "id": "a7408d8e",
   "metadata": {},
   "outputs": [
    {
     "data": {
      "text/plain": [
       "array([[ 1.64767306,  0.20623287, -1.62114508, ...,  0.89636437,\n",
       "        -0.76011455,  1.22013336],\n",
       "       [ 0.38024767,  1.18389765, -0.15251848, ...,  1.30426052,\n",
       "         0.80852949, -1.42227529],\n",
       "       [ 1.25769602,  1.27129309, -0.2730585 , ...,  1.30426052,\n",
       "         0.80852949,  0.51234533],\n",
       "       ...,\n",
       "       [ 0.90021706,  1.92764066,  0.57275967, ...,  1.71215667,\n",
       "         1.59285151, -0.43137205],\n",
       "       [-1.09841527, -1.29682755, -0.64814879, ..., -0.32732407,\n",
       "        -1.54443657, -0.43137205],\n",
       "       [-0.92509214,  0.74174642, -1.10997832, ...,  1.30426052,\n",
       "         0.02420747, -0.43137205]])"
      ]
     },
     "execution_count": 151,
     "metadata": {},
     "output_type": "execute_result"
    }
   ],
   "source": [
    "X_test"
   ]
  },
  {
   "cell_type": "code",
   "execution_count": 152,
   "id": "8048304c",
   "metadata": {},
   "outputs": [
    {
     "data": {
      "text/plain": [
       "623    0\n",
       "389    0\n",
       "551    0\n",
       "617    0\n",
       "130    1\n",
       "      ..\n",
       "568    0\n",
       "427    0\n",
       "485    0\n",
       "116    1\n",
       "148    1\n",
       "Name: label, Length: 162, dtype: int64"
      ]
     },
     "execution_count": 152,
     "metadata": {},
     "output_type": "execute_result"
    }
   ],
   "source": [
    "y_test"
   ]
  },
  {
   "cell_type": "code",
   "execution_count": 155,
   "id": "13e48256",
   "metadata": {},
   "outputs": [
    {
     "ename": "NameError",
     "evalue": "name 'precision_score' is not defined",
     "output_type": "error",
     "traceback": [
      "\u001b[1;31m---------------------------------------------------------------------------\u001b[0m",
      "\u001b[1;31mNameError\u001b[0m                                 Traceback (most recent call last)",
      "\u001b[1;32m~\\AppData\\Local\\Temp/ipykernel_1612/1878396848.py\u001b[0m in \u001b[0;36m<module>\u001b[1;34m\u001b[0m\n\u001b[1;32m----> 1\u001b[1;33m \u001b[0mprecision\u001b[0m \u001b[1;33m=\u001b[0m \u001b[0mprecision_score\u001b[0m\u001b[1;33m(\u001b[0m\u001b[0mnp\u001b[0m\u001b[1;33m.\u001b[0m\u001b[0marray\u001b[0m\u001b[1;33m(\u001b[0m\u001b[0my_test\u001b[0m\u001b[1;33m)\u001b[0m\u001b[1;33m,\u001b[0m \u001b[0mnp\u001b[0m\u001b[1;33m.\u001b[0m\u001b[0marray\u001b[0m\u001b[1;33m(\u001b[0m\u001b[0my_predict\u001b[0m\u001b[1;33m)\u001b[0m\u001b[1;33m)\u001b[0m\u001b[1;33m\u001b[0m\u001b[1;33m\u001b[0m\u001b[0m\n\u001b[0m\u001b[0;32m      2\u001b[0m \u001b[0mrecall\u001b[0m \u001b[1;33m=\u001b[0m \u001b[0mrecall_score\u001b[0m\u001b[1;33m(\u001b[0m\u001b[0my_test\u001b[0m\u001b[1;33m,\u001b[0m \u001b[0my_predict\u001b[0m\u001b[1;33m)\u001b[0m\u001b[1;33m\u001b[0m\u001b[1;33m\u001b[0m\u001b[0m\n\u001b[0;32m      3\u001b[0m \u001b[0mf1\u001b[0m \u001b[1;33m=\u001b[0m \u001b[0mf1_score\u001b[0m\u001b[1;33m(\u001b[0m\u001b[0my_test\u001b[0m\u001b[1;33m,\u001b[0m \u001b[0my_predict\u001b[0m\u001b[1;33m)\u001b[0m\u001b[1;33m\u001b[0m\u001b[1;33m\u001b[0m\u001b[0m\n\u001b[0;32m      4\u001b[0m \u001b[1;33m\u001b[0m\u001b[0m\n\u001b[0;32m      5\u001b[0m \u001b[0mprint\u001b[0m\u001b[1;33m(\u001b[0m\u001b[0mprecision\u001b[0m\u001b[1;33m)\u001b[0m\u001b[1;33m\u001b[0m\u001b[1;33m\u001b[0m\u001b[0m\n",
      "\u001b[1;31mNameError\u001b[0m: name 'precision_score' is not defined"
     ]
    }
   ],
   "source": [
    "from sklearn.metrics import precision_score, recall_score, f1_score\n",
    "\n",
    "precision = precision_score(np.array(y_test), np.array(y_predict))\n",
    "recall = recall_score(y_test, y_predict)\n",
    "f1 = f1_score(y_test, y_predict)\n",
    "\n",
    "print(precision)\n",
    "print(recall)\n",
    "print(f1)"
   ]
  }
 ],
 "metadata": {
  "kernelspec": {
   "display_name": "Python [conda env:dataAna]",
   "language": "python",
   "name": "conda-env-dataAna-py"
  },
  "language_info": {
   "codemirror_mode": {
    "name": "ipython",
    "version": 3
   },
   "file_extension": ".py",
   "mimetype": "text/x-python",
   "name": "python",
   "nbconvert_exporter": "python",
   "pygments_lexer": "ipython3",
   "version": "3.8.10"
  }
 },
 "nbformat": 4,
 "nbformat_minor": 5
}
